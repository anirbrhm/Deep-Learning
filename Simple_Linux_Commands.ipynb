{
  "nbformat": 4,
  "nbformat_minor": 0,
  "metadata": {
    "colab": {
      "name": "Simple Linux Commands.ipynb",
      "provenance": [],
      "collapsed_sections": [],
      "toc_visible": true,
      "authorship_tag": "ABX9TyPHS78xeV3ybXmy8L9qwSx6",
      "include_colab_link": true
    },
    "kernelspec": {
      "name": "python3",
      "display_name": "Python 3"
    }
  },
  "cells": [
    {
      "cell_type": "markdown",
      "metadata": {
        "id": "view-in-github",
        "colab_type": "text"
      },
      "source": [
        "<a href=\"https://colab.research.google.com/github/anirbrhm/Deep-Learning/blob/main/Simple_Linux_Commands.ipynb\" target=\"_parent\"><img src=\"https://colab.research.google.com/assets/colab-badge.svg\" alt=\"Open In Colab\"/></a>"
      ]
    },
    {
      "cell_type": "markdown",
      "metadata": {
        "id": "4jDa55b0jqec"
      },
      "source": [
        "# Simple Linux Commands "
      ]
    },
    {
      "cell_type": "markdown",
      "metadata": {
        "id": "Djcwu3W9kcxc"
      },
      "source": [
        "All the linux commands in google collaboratory has to be preceeded by a \"!\" "
      ]
    },
    {
      "cell_type": "code",
      "metadata": {
        "colab": {
          "base_uri": "https://localhost:8080/"
        },
        "id": "J-InftKTkdSV",
        "outputId": "1641f5b5-15b8-4bd2-99ce-2e0b319ed001"
      },
      "source": [
        "!pwd # prints the working directory.  "
      ],
      "execution_count": null,
      "outputs": [
        {
          "output_type": "stream",
          "text": [
            "/content\n"
          ],
          "name": "stdout"
        }
      ]
    },
    {
      "cell_type": "code",
      "metadata": {
        "colab": {
          "base_uri": "https://localhost:8080/"
        },
        "id": "LE5uPxp0kgAr",
        "outputId": "fea8a845-93d7-46f0-b29b-2a43dbb65a9e"
      },
      "source": [
        "!ls # lists the files and directories that are in the current directory. "
      ],
      "execution_count": null,
      "outputs": [
        {
          "output_type": "stream",
          "text": [
            "sample_data\n"
          ],
          "name": "stdout"
        }
      ]
    },
    {
      "cell_type": "code",
      "metadata": {
        "id": "HEW_Femhkt09"
      },
      "source": [
        "!cat /proc/cpuinfo # cpu information "
      ],
      "execution_count": null,
      "outputs": []
    },
    {
      "cell_type": "code",
      "metadata": {
        "id": "PtcSdEpBuO2m"
      },
      "source": [
        "!cat /proc/meminfo # memory information "
      ],
      "execution_count": null,
      "outputs": []
    }
  ]
}