{
  "nbformat": 4,
  "nbformat_minor": 0,
  "metadata": {
    "colab": {
      "name": "PyTorchCNN.ipynb",
      "provenance": [],
      "collapsed_sections": [],
      "authorship_tag": "ABX9TyPhS2VczVnq6GlxgpD83CB0",
      "include_colab_link": true
    },
    "kernelspec": {
      "name": "python3",
      "display_name": "Python 3"
    },
    "accelerator": "GPU",
    "widgets": {
      "application/vnd.jupyter.widget-state+json": {
        "ff54d491aa65442f942365fd357fe0dd": {
          "model_module": "@jupyter-widgets/controls",
          "model_name": "HBoxModel",
          "state": {
            "_view_name": "HBoxView",
            "_dom_classes": [],
            "_model_name": "HBoxModel",
            "_view_module": "@jupyter-widgets/controls",
            "_model_module_version": "1.5.0",
            "_view_count": null,
            "_view_module_version": "1.5.0",
            "box_style": "",
            "layout": "IPY_MODEL_3a8a2de67a2041028d21d1c5db8220d0",
            "_model_module": "@jupyter-widgets/controls",
            "children": [
              "IPY_MODEL_407ad8a7ae7746adb5a3669ce865cf0f",
              "IPY_MODEL_4dcdbeadf5e44faea57f70fa3966a44c"
            ]
          }
        },
        "3a8a2de67a2041028d21d1c5db8220d0": {
          "model_module": "@jupyter-widgets/base",
          "model_name": "LayoutModel",
          "state": {
            "_view_name": "LayoutView",
            "grid_template_rows": null,
            "right": null,
            "justify_content": null,
            "_view_module": "@jupyter-widgets/base",
            "overflow": null,
            "_model_module_version": "1.2.0",
            "_view_count": null,
            "flex_flow": null,
            "width": null,
            "min_width": null,
            "border": null,
            "align_items": null,
            "bottom": null,
            "_model_module": "@jupyter-widgets/base",
            "top": null,
            "grid_column": null,
            "overflow_y": null,
            "overflow_x": null,
            "grid_auto_flow": null,
            "grid_area": null,
            "grid_template_columns": null,
            "flex": null,
            "_model_name": "LayoutModel",
            "justify_items": null,
            "grid_row": null,
            "max_height": null,
            "align_content": null,
            "visibility": null,
            "align_self": null,
            "height": null,
            "min_height": null,
            "padding": null,
            "grid_auto_rows": null,
            "grid_gap": null,
            "max_width": null,
            "order": null,
            "_view_module_version": "1.2.0",
            "grid_template_areas": null,
            "object_position": null,
            "object_fit": null,
            "grid_auto_columns": null,
            "margin": null,
            "display": null,
            "left": null
          }
        },
        "407ad8a7ae7746adb5a3669ce865cf0f": {
          "model_module": "@jupyter-widgets/controls",
          "model_name": "FloatProgressModel",
          "state": {
            "_view_name": "ProgressView",
            "style": "IPY_MODEL_83956fbede0d4667957c3c3bf2fb238f",
            "_dom_classes": [],
            "description": "",
            "_model_name": "FloatProgressModel",
            "bar_style": "success",
            "max": 1,
            "_view_module": "@jupyter-widgets/controls",
            "_model_module_version": "1.5.0",
            "value": 1,
            "_view_count": null,
            "_view_module_version": "1.5.0",
            "orientation": "horizontal",
            "min": 0,
            "description_tooltip": null,
            "_model_module": "@jupyter-widgets/controls",
            "layout": "IPY_MODEL_d7e770f1cae64949bc54c1786d970df2"
          }
        },
        "4dcdbeadf5e44faea57f70fa3966a44c": {
          "model_module": "@jupyter-widgets/controls",
          "model_name": "HTMLModel",
          "state": {
            "_view_name": "HTMLView",
            "style": "IPY_MODEL_8598cd01002d4851a9c61d0b7f022893",
            "_dom_classes": [],
            "description": "",
            "_model_name": "HTMLModel",
            "placeholder": "​",
            "_view_module": "@jupyter-widgets/controls",
            "_model_module_version": "1.5.0",
            "value": " 170500096/? [00:04&lt;00:00, 37958944.05it/s]",
            "_view_count": null,
            "_view_module_version": "1.5.0",
            "description_tooltip": null,
            "_model_module": "@jupyter-widgets/controls",
            "layout": "IPY_MODEL_8b6a6e518a354a47853580f24af4080b"
          }
        },
        "83956fbede0d4667957c3c3bf2fb238f": {
          "model_module": "@jupyter-widgets/controls",
          "model_name": "ProgressStyleModel",
          "state": {
            "_view_name": "StyleView",
            "_model_name": "ProgressStyleModel",
            "description_width": "initial",
            "_view_module": "@jupyter-widgets/base",
            "_model_module_version": "1.5.0",
            "_view_count": null,
            "_view_module_version": "1.2.0",
            "bar_color": null,
            "_model_module": "@jupyter-widgets/controls"
          }
        },
        "d7e770f1cae64949bc54c1786d970df2": {
          "model_module": "@jupyter-widgets/base",
          "model_name": "LayoutModel",
          "state": {
            "_view_name": "LayoutView",
            "grid_template_rows": null,
            "right": null,
            "justify_content": null,
            "_view_module": "@jupyter-widgets/base",
            "overflow": null,
            "_model_module_version": "1.2.0",
            "_view_count": null,
            "flex_flow": null,
            "width": null,
            "min_width": null,
            "border": null,
            "align_items": null,
            "bottom": null,
            "_model_module": "@jupyter-widgets/base",
            "top": null,
            "grid_column": null,
            "overflow_y": null,
            "overflow_x": null,
            "grid_auto_flow": null,
            "grid_area": null,
            "grid_template_columns": null,
            "flex": null,
            "_model_name": "LayoutModel",
            "justify_items": null,
            "grid_row": null,
            "max_height": null,
            "align_content": null,
            "visibility": null,
            "align_self": null,
            "height": null,
            "min_height": null,
            "padding": null,
            "grid_auto_rows": null,
            "grid_gap": null,
            "max_width": null,
            "order": null,
            "_view_module_version": "1.2.0",
            "grid_template_areas": null,
            "object_position": null,
            "object_fit": null,
            "grid_auto_columns": null,
            "margin": null,
            "display": null,
            "left": null
          }
        },
        "8598cd01002d4851a9c61d0b7f022893": {
          "model_module": "@jupyter-widgets/controls",
          "model_name": "DescriptionStyleModel",
          "state": {
            "_view_name": "StyleView",
            "_model_name": "DescriptionStyleModel",
            "description_width": "",
            "_view_module": "@jupyter-widgets/base",
            "_model_module_version": "1.5.0",
            "_view_count": null,
            "_view_module_version": "1.2.0",
            "_model_module": "@jupyter-widgets/controls"
          }
        },
        "8b6a6e518a354a47853580f24af4080b": {
          "model_module": "@jupyter-widgets/base",
          "model_name": "LayoutModel",
          "state": {
            "_view_name": "LayoutView",
            "grid_template_rows": null,
            "right": null,
            "justify_content": null,
            "_view_module": "@jupyter-widgets/base",
            "overflow": null,
            "_model_module_version": "1.2.0",
            "_view_count": null,
            "flex_flow": null,
            "width": null,
            "min_width": null,
            "border": null,
            "align_items": null,
            "bottom": null,
            "_model_module": "@jupyter-widgets/base",
            "top": null,
            "grid_column": null,
            "overflow_y": null,
            "overflow_x": null,
            "grid_auto_flow": null,
            "grid_area": null,
            "grid_template_columns": null,
            "flex": null,
            "_model_name": "LayoutModel",
            "justify_items": null,
            "grid_row": null,
            "max_height": null,
            "align_content": null,
            "visibility": null,
            "align_self": null,
            "height": null,
            "min_height": null,
            "padding": null,
            "grid_auto_rows": null,
            "grid_gap": null,
            "max_width": null,
            "order": null,
            "_view_module_version": "1.2.0",
            "grid_template_areas": null,
            "object_position": null,
            "object_fit": null,
            "grid_auto_columns": null,
            "margin": null,
            "display": null,
            "left": null
          }
        }
      }
    }
  },
  "cells": [
    {
      "cell_type": "markdown",
      "metadata": {
        "id": "view-in-github",
        "colab_type": "text"
      },
      "source": [
        "<a href=\"https://colab.research.google.com/github/anirbrhm/Deep-Learning/blob/main/PyTorchCNN.ipynb\" target=\"_parent\"><img src=\"https://colab.research.google.com/assets/colab-badge.svg\" alt=\"Open In Colab\"/></a>"
      ]
    },
    {
      "cell_type": "code",
      "metadata": {
        "id": "EuEbs_0iBzQD"
      },
      "source": [
        "import torch \r\n",
        "import matplotlib.pyplot as plt \r\n",
        "import numpy as np "
      ],
      "execution_count": 1,
      "outputs": []
    },
    {
      "cell_type": "markdown",
      "metadata": {
        "id": "g7U6jYfqD34r"
      },
      "source": [
        "## Data Loading "
      ]
    },
    {
      "cell_type": "code",
      "metadata": {
        "colab": {
          "base_uri": "https://localhost:8080/",
          "height": 82,
          "referenced_widgets": [
            "ff54d491aa65442f942365fd357fe0dd",
            "3a8a2de67a2041028d21d1c5db8220d0",
            "407ad8a7ae7746adb5a3669ce865cf0f",
            "4dcdbeadf5e44faea57f70fa3966a44c",
            "83956fbede0d4667957c3c3bf2fb238f",
            "d7e770f1cae64949bc54c1786d970df2",
            "8598cd01002d4851a9c61d0b7f022893",
            "8b6a6e518a354a47853580f24af4080b"
          ]
        },
        "id": "Zdsv0QLbD5rw",
        "outputId": "6300841d-fca4-4ecc-e45f-ca454719c576"
      },
      "source": [
        "import torchvision\r\n",
        "import torchvision.transforms as transforms\r\n",
        "trainset = torchvision.datasets.CIFAR10(root = \"./data\", train = True, download = True,transform=transforms.ToTensor())"
      ],
      "execution_count": 2,
      "outputs": [
        {
          "output_type": "stream",
          "text": [
            "Downloading https://www.cs.toronto.edu/~kriz/cifar-10-python.tar.gz to ./data/cifar-10-python.tar.gz\n"
          ],
          "name": "stdout"
        },
        {
          "output_type": "display_data",
          "data": {
            "application/vnd.jupyter.widget-view+json": {
              "model_id": "ff54d491aa65442f942365fd357fe0dd",
              "version_minor": 0,
              "version_major": 2
            },
            "text/plain": [
              "HBox(children=(FloatProgress(value=1.0, bar_style='info', max=1.0), HTML(value='')))"
            ]
          },
          "metadata": {
            "tags": []
          }
        },
        {
          "output_type": "stream",
          "text": [
            "Extracting ./data/cifar-10-python.tar.gz to ./data\n"
          ],
          "name": "stdout"
        }
      ]
    },
    {
      "cell_type": "code",
      "metadata": {
        "id": "r9icETA-Dv1j"
      },
      "source": [
        "classes = (\"plane\", \"car\", \"bird\", \"cat\", \"deer\", \"dog\", \"frog\", \"horse\", \"ship\", \"truck\") "
      ],
      "execution_count": 3,
      "outputs": []
    },
    {
      "cell_type": "code",
      "metadata": {
        "id": "84z8DbdgF39m"
      },
      "source": [
        "trainloader = torch.utils.data.DataLoader(trainset, batch_size=4, shuffle=True) # gives me 4 images everytime, shuffle means randomly. "
      ],
      "execution_count": 4,
      "outputs": []
    },
    {
      "cell_type": "code",
      "metadata": {
        "colab": {
          "base_uri": "https://localhost:8080/"
        },
        "id": "KWUA_8AvGU5O",
        "outputId": "aff00c96-c01d-4be1-a041-91f4070aac5b"
      },
      "source": [
        "dataiter = iter(trainloader) # create an iterator \r\n",
        "images, labels = dataiter.next() # gives me one instance of trainloader (4 images) \r\n",
        "\r\n",
        "print(images.shape) \r\n",
        "\r\n",
        "print(images[0].shape)\r\n",
        "print(labels[0].item())"
      ],
      "execution_count": 5,
      "outputs": [
        {
          "output_type": "stream",
          "text": [
            "torch.Size([4, 3, 32, 32])\n",
            "torch.Size([3, 32, 32])\n",
            "9\n"
          ],
          "name": "stdout"
        }
      ]
    },
    {
      "cell_type": "markdown",
      "metadata": {
        "id": "2fgIhVGCH1hO"
      },
      "source": [
        "## Visualize Data"
      ]
    },
    {
      "cell_type": "code",
      "metadata": {
        "colab": {
          "base_uri": "https://localhost:8080/"
        },
        "id": "6BqevIo6H2-k",
        "outputId": "fcc555f2-3f05-4d83-c9aa-6f61b68a2281"
      },
      "source": [
        "img = images[0]\r\n",
        "print(type(img))"
      ],
      "execution_count": 6,
      "outputs": [
        {
          "output_type": "stream",
          "text": [
            "<class 'torch.Tensor'>\n"
          ],
          "name": "stdout"
        }
      ]
    },
    {
      "cell_type": "code",
      "metadata": {
        "colab": {
          "base_uri": "https://localhost:8080/"
        },
        "id": "vmbtK3DMG-Zq",
        "outputId": "28a7dfb7-6133-4f94-cbed-0105297134c6"
      },
      "source": [
        "npimg = img.numpy()\r\n",
        "print(npimg.shape) # in the shape of (z,x,y) , but to plot it we need (x,y,z) "
      ],
      "execution_count": 7,
      "outputs": [
        {
          "output_type": "stream",
          "text": [
            "(3, 32, 32)\n"
          ],
          "name": "stdout"
        }
      ]
    },
    {
      "cell_type": "code",
      "metadata": {
        "colab": {
          "base_uri": "https://localhost:8080/"
        },
        "id": "C-RpeGbvIIFk",
        "outputId": "0bb13c41-37b8-4e2c-a307-4a89b8edb629"
      },
      "source": [
        "npimg = np.transpose(npimg, (1,2,0)) # for higher dimension matrices , transpose is any permutation. \r\n",
        "print(npimg.shape)"
      ],
      "execution_count": 8,
      "outputs": [
        {
          "output_type": "stream",
          "text": [
            "(32, 32, 3)\n"
          ],
          "name": "stdout"
        }
      ]
    },
    {
      "cell_type": "code",
      "metadata": {
        "colab": {
          "base_uri": "https://localhost:8080/",
          "height": 176
        },
        "id": "m2lS1tWPInO3",
        "outputId": "58af7f94-7921-4754-bebb-7339b9bb9c90"
      },
      "source": [
        "plt.figure(figsize=(2,2))\r\n",
        "plt.imshow(npimg) # image plotting on matplotlib\r\n",
        "plt.show()"
      ],
      "execution_count": 9,
      "outputs": [
        {
          "output_type": "stream",
          "text": [
            "\n"
          ],
          "name": "stdout"
        },
        {
          "output_type": "display_data",
          "data": {
            "image/png": "[encoded data removed]",
            "text/plain": [
              "<Figure size 144x144 with 1 Axes>"
            ]
          },
          "metadata": {
            "tags": [],
            "needs_background": "light"
          }
        }
      ]
    },
    {
      "cell_type": "markdown",
      "metadata": {
        "id": "EWcrx7LBJR-h"
      },
      "source": [
        "Making a function of these steps"
      ]
    },
    {
      "cell_type": "code",
      "metadata": {
        "id": "5GW8Ski7I6Xf"
      },
      "source": [
        "def imshow(img):\r\n",
        "  npimg = img.numpy()\r\n",
        "  plt.imshow(np.transpose(npimg,(1,2,0)))\r\n",
        "  plt.show()"
      ],
      "execution_count": 10,
      "outputs": []
    },
    {
      "cell_type": "code",
      "metadata": {
        "colab": {
          "base_uri": "https://localhost:8080/",
          "height": 155
        },
        "id": "0m4QFQLxJjGk",
        "outputId": "f6bc2427-2f73-4dbc-f642-f98704770ae2"
      },
      "source": [
        "imshow(torchvision.utils.make_grid(images))\r\n",
        "print(\" \".join(classes[labels[j]] for j in range(4)))"
      ],
      "execution_count": 11,
      "outputs": [
        {
          "output_type": "display_data",
          "data": {
            "image/png": "[encoded data removed]",
            "text/plain": [
              "<Figure size 432x288 with 1 Axes>"
            ]
          },
          "metadata": {
            "tags": [],
            "needs_background": "light"
          }
        },
        {
          "output_type": "stream",
          "text": [
            "truck cat plane ship\n"
          ],
          "name": "stdout"
        }
      ]
    },
    {
      "cell_type": "markdown",
      "metadata": {
        "id": "4xhDdE8_hYBX"
      },
      "source": [
        "## Convolutional Layer"
      ]
    },
    {
      "cell_type": "code",
      "metadata": {
        "id": "eLl-xpWDK2Jb"
      },
      "source": [
        "import torch.nn as nn \r\n",
        "\r\n",
        "class FirstCNN(nn.Module):\r\n",
        "  def __init__(self):\r\n",
        "    super(FirstCNN,self).__init__()\r\n",
        "    self.conv1 = nn.Conv2d(3, 16, 3, padding=(1,1), stride = (2,2)) # padding = (1,1) , stride = (2,2) ; 3 = number of channels in each image , \r\n",
        "    # 16 = no. of different kernels , 3 = kernel size of 3x3 \r\n",
        "\r\n",
        "  def forward(self,x):\r\n",
        "    x = self.conv1(x) \r\n",
        "    return x "
      ],
      "execution_count": 12,
      "outputs": []
    },
    {
      "cell_type": "code",
      "metadata": {
        "id": "7J5zQb3hNZ4b"
      },
      "source": [
        "net = FirstCNN()"
      ],
      "execution_count": 13,
      "outputs": []
    },
    {
      "cell_type": "code",
      "metadata": {
        "colab": {
          "base_uri": "https://localhost:8080/"
        },
        "id": "QhZtfT_NNe6Y",
        "outputId": "4b5c0d18-e163-468f-9516-59916fca4f5a"
      },
      "source": [
        "out = net(images) \r\n",
        "out.shape"
      ],
      "execution_count": 14,
      "outputs": [
        {
          "output_type": "execute_result",
          "data": {
            "text/plain": [
              "torch.Size([4, 16, 16, 16])"
            ]
          },
          "metadata": {
            "tags": []
          },
          "execution_count": 14
        }
      ]
    },
    {
      "cell_type": "code",
      "metadata": {
        "colab": {
          "base_uri": "https://localhost:8080/"
        },
        "id": "fA9BlQsONmku",
        "outputId": "9fdb847d-050a-4857-e715-b33c2cd6cfff"
      },
      "source": [
        "for param in net.parameters():\r\n",
        "  print(param.shape) # 16 kernels , channel size 3 (input) , 3 , 3 correspoding to the weights \r\n",
        "  # each kernel has 1 bias term ,  hence 16 biases  "
      ],
      "execution_count": 15,
      "outputs": [
        {
          "output_type": "stream",
          "text": [
            "torch.Size([16, 3, 3, 3])\n",
            "torch.Size([16])\n"
          ],
          "name": "stdout"
        }
      ]
    },
    {
      "cell_type": "code",
      "metadata": {
        "colab": {
          "base_uri": "https://localhost:8080/"
        },
        "id": "bnGwJyTFOuy9",
        "outputId": "09667eb3-2d48-478b-d32e-a3f3836de07d"
      },
      "source": [
        "out1 = out[0, 0, :, :].detach().numpy()\r\n",
        "print(out1.shape)"
      ],
      "execution_count": 16,
      "outputs": [
        {
          "output_type": "stream",
          "text": [
            "(16, 16)\n"
          ],
          "name": "stdout"
        }
      ]
    },
    {
      "cell_type": "code",
      "metadata": {
        "colab": {
          "base_uri": "https://localhost:8080/",
          "height": 265
        },
        "id": "hq12Nk34PtmY",
        "outputId": "4a648a4a-5b87-401b-dd17-fd4d4b77be70"
      },
      "source": [
        "plt.imshow(out1)\r\n",
        "plt.show()"
      ],
      "execution_count": 17,
      "outputs": [
        {
          "output_type": "display_data",
          "data": {
            "image/png": "[encoded data removed]",
            "text/plain": [
              "<Figure size 432x288 with 1 Axes>"
            ]
          },
          "metadata": {
            "tags": [],
            "needs_background": "light"
          }
        }
      ]
    },
    {
      "cell_type": "markdown",
      "metadata": {
        "id": "vg8kbe28hbPb"
      },
      "source": [
        "## Deep Convolutional Network"
      ]
    },
    {
      "cell_type": "code",
      "metadata": {
        "id": "eA1WGArlQALb"
      },
      "source": [
        "class FirstCNN_v2 (nn.Module):\r\n",
        "  def __init__(self):\r\n",
        "    super(FirstCNN_v2,self).__init__()\r\n",
        "    self.model = nn.Sequential(\r\n",
        "        nn.Conv2d(3,8,3), # input = (N,3,32,32) , output = (N,8,30,30) , N is the batch size \r\n",
        "        nn.Conv2d(8,16,3)  # input = (N,8,30,30) , output = (N,16,28,28)\r\n",
        "    )\r\n",
        "\r\n",
        "  def forward(self,x):\r\n",
        "    x = self.model(x) \r\n",
        "    return x"
      ],
      "execution_count": 18,
      "outputs": []
    },
    {
      "cell_type": "code",
      "metadata": {
        "colab": {
          "base_uri": "https://localhost:8080/"
        },
        "id": "cEHG0tdki-9V",
        "outputId": "eabeff95-ab78-4027-8840-fde10d4d0b2a"
      },
      "source": [
        "net = FirstCNN_v2()\r\n",
        "out = net(images) \r\n",
        "out.shape"
      ],
      "execution_count": 19,
      "outputs": [
        {
          "output_type": "execute_result",
          "data": {
            "text/plain": [
              "torch.Size([4, 16, 28, 28])"
            ]
          },
          "metadata": {
            "tags": []
          },
          "execution_count": 19
        }
      ]
    },
    {
      "cell_type": "code",
      "metadata": {
        "colab": {
          "base_uri": "https://localhost:8080/",
          "height": 282
        },
        "id": "yUJHMY4PjFza",
        "outputId": "d8bfea05-89f8-4f5e-ec69-ebf4afe2168b"
      },
      "source": [
        "plt.imshow(out[0, 0, :, :].detach().numpy())"
      ],
      "execution_count": 20,
      "outputs": [
        {
          "output_type": "execute_result",
          "data": {
            "text/plain": [
              "<matplotlib.image.AxesImage at 0x7f89e6dc4b50>"
            ]
          },
          "metadata": {
            "tags": []
          },
          "execution_count": 20
        },
        {
          "output_type": "display_data",
          "data": {
            "image/png": "[encoded data removed]",
            "text/plain": [
              "<Figure size 432x288 with 1 Axes>"
            ]
          },
          "metadata": {
            "tags": [],
            "needs_background": "light"
          }
        }
      ]
    },
    {
      "cell_type": "code",
      "metadata": {
        "id": "_WizvTwyjY4e"
      },
      "source": [
        "class FirstCNN_v3 (nn.Module):\r\n",
        "  def __init__(self):\r\n",
        "    super(FirstCNN_v3,self).__init__()\r\n",
        "    self.model = nn.Sequential(\r\n",
        "        nn.Conv2d(3,6,5),  # (N,3,32,32) -> (N,6,28,28) \r\n",
        "        nn.AvgPool2d(2, stride = 2), # (N,6,28,28) -> (N,6,14,14) \r\n",
        "        nn.Conv2d(6,16,5), # (N,6,14,14) -> (N,16,10,10)\r\n",
        "        nn.AvgPool2d(2, stride = 2)  # (N,16,10,10) -> (N,16,5,5) \r\n",
        "    )\r\n",
        "\r\n",
        "  def forward(self,x):\r\n",
        "    x = self.model(x) \r\n",
        "    return x"
      ],
      "execution_count": 21,
      "outputs": []
    },
    {
      "cell_type": "code",
      "metadata": {
        "colab": {
          "base_uri": "https://localhost:8080/"
        },
        "id": "-kKKttGTk8_o",
        "outputId": "4c0656b9-77d9-41c3-bd39-71f4144efc41"
      },
      "source": [
        "net = FirstCNN_v3()\r\n",
        "out = net(images) \r\n",
        "out.shape"
      ],
      "execution_count": 22,
      "outputs": [
        {
          "output_type": "execute_result",
          "data": {
            "text/plain": [
              "torch.Size([4, 16, 5, 5])"
            ]
          },
          "metadata": {
            "tags": []
          },
          "execution_count": 22
        }
      ]
    },
    {
      "cell_type": "code",
      "metadata": {
        "colab": {
          "base_uri": "https://localhost:8080/",
          "height": 282
        },
        "id": "0dJHwJvkk9iu",
        "outputId": "77511abf-4360-481a-c2d1-3418dca7b973"
      },
      "source": [
        "plt.imshow(out[0, 0, :, :].detach().numpy())"
      ],
      "execution_count": 23,
      "outputs": [
        {
          "output_type": "execute_result",
          "data": {
            "text/plain": [
              "<matplotlib.image.AxesImage at 0x7f89e6b7fad0>"
            ]
          },
          "metadata": {
            "tags": []
          },
          "execution_count": 23
        },
        {
          "output_type": "display_data",
          "data": {
            "image/png": "[encoded data removed]",
            "text/plain": [
              "<Figure size 432x288 with 1 Axes>"
            ]
          },
          "metadata": {
            "tags": [],
            "needs_background": "light"
          }
        }
      ]
    },
    {
      "cell_type": "markdown",
      "metadata": {
        "id": "TtZzXwd2l4Qf"
      },
      "source": [
        "## LeNet"
      ]
    },
    {
      "cell_type": "code",
      "metadata": {
        "id": "rNvkbiGHl6pm"
      },
      "source": [
        "class LeNet(nn.Module) : \r\n",
        "  def __init__(self):\r\n",
        "    super(LeNet,self).__init__()\r\n",
        "    self.cnn_model = nn.Sequential(\r\n",
        "        nn.Conv2d(3,6,5), # (N,3,32,32) -> (N,6,28,28) \r\n",
        "        nn.Tanh(), # (N,6,28,28) -> (N,6,28,28) \r\n",
        "        nn.AvgPool2d(2, stride = 2), # (N,6,28,28) -> (N,6,14,14)\r\n",
        "        nn.Conv2d(6,16,5), # (N,6,14,14) -> (N,16,10,10) \r\n",
        "        nn.Tanh(), # (N,16,10,10) -> (N,16,10,10) \r\n",
        "        nn.AvgPool2d(2, stride = 2) # (N,16,10,10) -> (N,16,5,5) \r\n",
        "    ) \r\n",
        "    # we flatten the tensor here to be a 400 dimensional vector \r\n",
        "\r\n",
        "    self.fc_model = nn.Sequential(\r\n",
        "        nn.Linear(400,120), # (N, 400) -> (N, 120) \r\n",
        "        nn.Tanh(), \r\n",
        "        nn.Linear(120,84), # (N, 120) -> (N, 84)\r\n",
        "        nn.Tanh(), \r\n",
        "        nn.Linear(84,10) # (N, 84) -> (N, 10) \r\n",
        "        # not having softmax here because max of these will still be the max of softmax, and the gradient part can be handled by the cross entropy loss, which itself goes through a softmax. \r\n",
        "    )\r\n",
        "\r\n",
        "  def forward(self,x):\r\n",
        "    print(x.shape) \r\n",
        "    x = self.cnn_model(x) \r\n",
        "    print(x.shape) \r\n",
        "    x = x.view(x.size(0),-1)\r\n",
        "    print(x.shape) \r\n",
        "    x = self.fc_model(x) \r\n",
        "    print(x.shape)\r\n",
        "    return x "
      ],
      "execution_count": 24,
      "outputs": []
    },
    {
      "cell_type": "code",
      "metadata": {
        "colab": {
          "base_uri": "https://localhost:8080/"
        },
        "id": "HHa8N4Zl6R1z",
        "outputId": "a28cc57b-11ad-4080-819d-5067e1e8769c"
      },
      "source": [
        "net = LeNet()\r\n",
        "out = net(images)"
      ],
      "execution_count": 25,
      "outputs": [
        {
          "output_type": "stream",
          "text": [
            "torch.Size([4, 3, 32, 32])\n",
            "torch.Size([4, 16, 5, 5])\n",
            "torch.Size([4, 400])\n",
            "torch.Size([4, 10])\n"
          ],
          "name": "stdout"
        }
      ]
    },
    {
      "cell_type": "code",
      "metadata": {
        "colab": {
          "base_uri": "https://localhost:8080/"
        },
        "id": "Js2CrbFA6fSR",
        "outputId": "6d014855-84fc-4adb-ea72-19b6864dd8cf"
      },
      "source": [
        "print(out)"
      ],
      "execution_count": 26,
      "outputs": [
        {
          "output_type": "stream",
          "text": [
            "tensor([[-0.1090, -0.0113,  0.0775, -0.0883,  0.1467,  0.0086,  0.0505, -0.0111,\n",
            "         -0.0344,  0.1266],\n",
            "        [-0.1043, -0.0290,  0.0862, -0.1008,  0.1438,  0.0109,  0.0443, -0.0162,\n",
            "         -0.0360,  0.1282],\n",
            "        [-0.1048, -0.0296,  0.0979, -0.1228,  0.1268,  0.0250,  0.0281, -0.0045,\n",
            "         -0.0545,  0.1344],\n",
            "        [-0.1074, -0.0256,  0.0837, -0.1127,  0.1390,  0.0355,  0.0573, -0.0196,\n",
            "         -0.0421,  0.1115]], grad_fn=<AddmmBackward>)\n"
          ],
          "name": "stdout"
        }
      ]
    },
    {
      "cell_type": "code",
      "metadata": {
        "colab": {
          "base_uri": "https://localhost:8080/"
        },
        "id": "FT9VcC3-6cEx",
        "outputId": "9b4e9664-34b5-4dfe-f6ed-38ecef6945f4"
      },
      "source": [
        "max_values, pred_class = torch.max(out.data,1) \r\n",
        "print(pred_class)"
      ],
      "execution_count": 27,
      "outputs": [
        {
          "output_type": "stream",
          "text": [
            "tensor([4, 4, 9, 4])\n"
          ],
          "name": "stdout"
        }
      ]
    },
    {
      "cell_type": "markdown",
      "metadata": {
        "id": "ApDMc6XG7lAH"
      },
      "source": [
        "## Training LeNet "
      ]
    },
    {
      "cell_type": "code",
      "metadata": {
        "id": "zkXzItGn6_pb"
      },
      "source": [
        "class LeNet(nn.Module) : \r\n",
        "  def __init__(self):\r\n",
        "    super(LeNet,self).__init__()\r\n",
        "    self.cnn_model = nn.Sequential(\r\n",
        "        nn.Conv2d(3,6,5), # (N,3,32,32) -> (N,6,28,28) \r\n",
        "        nn.Tanh(), # (N,6,28,28) -> (N,6,28,28) \r\n",
        "        nn.AvgPool2d(2, stride = 2), # (N,6,28,28) -> (N,6,14,14)\r\n",
        "        nn.Conv2d(6,16,5), # (N,6,14,14) -> (N,16,10,10) \r\n",
        "        nn.Tanh(), # (N,16,10,10) -> (N,16,10,10) \r\n",
        "        nn.AvgPool2d(2, stride = 2) # (N,16,10,10) -> (N,16,5,5) \r\n",
        "    ) \r\n",
        "    # we flatten the tensor here to be a 400 dimensional vector \r\n",
        "\r\n",
        "    self.fc_model = nn.Sequential(\r\n",
        "        nn.Linear(400,120), # (N, 400) -> (N, 120) \r\n",
        "        nn.Tanh(), \r\n",
        "        nn.Linear(120,84), # (N, 120) -> (N, 84)\r\n",
        "        nn.Tanh(), \r\n",
        "        nn.Linear(84,10) # (N, 84) -> (N, 10) \r\n",
        "        # not having softmax here because max of these will still be the max of softmax, and the gradient part can be handled by the cross entropy loss, which itself goes through a softmax. \r\n",
        "    )\r\n",
        "\r\n",
        "  def forward(self,x):\r\n",
        "    # print(x.shape) \r\n",
        "    x = self.cnn_model(x) \r\n",
        "    # print(x.shape) \r\n",
        "    x = x.view(x.size(0),-1)\r\n",
        "    # print(x.shape) \r\n",
        "    x = self.fc_model(x) \r\n",
        "    # print(x.shape)\r\n",
        "    return x "
      ],
      "execution_count": 28,
      "outputs": []
    },
    {
      "cell_type": "code",
      "metadata": {
        "colab": {
          "base_uri": "https://localhost:8080/"
        },
        "id": "KQ64IgYF7rga",
        "outputId": "4de7fa91-d468-490b-d89c-afedc556592a"
      },
      "source": [
        "batch_size = 128 \r\n",
        "trainset = torchvision.datasets.CIFAR10(root = \"./data\", train = True, download = True,transform=transforms.ToTensor())\r\n",
        "trainloader = torch.utils.data.DataLoader(trainset, batch_size=batch_size, shuffle=True)\r\n",
        "testset = torchvision.datasets.CIFAR10(root = \"./data\", train = False, download = True,transform=transforms.ToTensor())\r\n",
        "testloader = torch.utils.data.DataLoader(testset, batch_size=batch_size, shuffle=False) # no need for shuffling  "
      ],
      "execution_count": 29,
      "outputs": [
        {
          "output_type": "stream",
          "text": [
            "Files already downloaded and verified\n",
            "Files already downloaded and verified\n"
          ],
          "name": "stdout"
        }
      ]
    },
    {
      "cell_type": "code",
      "metadata": {
        "id": "IwM63WET8hKm"
      },
      "source": [
        "def evaluation(dataloader):\r\n",
        "  total , correct = 0 , 0 \r\n",
        "  for data in dataloader:\r\n",
        "    inputs, labels = data \r\n",
        "    outputs = net(inputs) \r\n",
        "    _, pred = torch.max(outputs.data, 1) \r\n",
        "    total += labels.size(0) \r\n",
        "    correct += (pred == labels).sum().item()\r\n",
        "  return 100 * correct / total "
      ],
      "execution_count": 30,
      "outputs": []
    },
    {
      "cell_type": "code",
      "metadata": {
        "id": "l1-ocnz69i7N"
      },
      "source": [
        "net = LeNet()"
      ],
      "execution_count": 31,
      "outputs": []
    },
    {
      "cell_type": "code",
      "metadata": {
        "id": "4a0PRKIX9m7T"
      },
      "source": [
        "import torch.optim as optim \r\n",
        "\r\n",
        "loss_fn = nn.CrossEntropyLoss() # takes into consideration the softmax we have to go through \r\n",
        "opt = optim.Adam(net.parameters())"
      ],
      "execution_count": 32,
      "outputs": []
    },
    {
      "cell_type": "code",
      "metadata": {
        "colab": {
          "base_uri": "https://localhost:8080/",
          "height": 567
        },
        "id": "kLUyMp_Z94wu",
        "outputId": "8187157b-9d2a-4008-dfee-552ca87e4887"
      },
      "source": [
        "import time \r\n",
        "\r\n",
        "%time \r\n",
        "loss_arr = [] \r\n",
        "loss_epoch_arr = []\r\n",
        "max_epochs = 16 \r\n",
        "\r\n",
        "for epoch in range(max_epochs):\r\n",
        "  for i, data in enumerate(trainloader, 0):\r\n",
        "    inputs, labels = data \r\n",
        "    opt.zero_grad()\r\n",
        "\r\n",
        "    outputs = net(inputs)\r\n",
        "    loss = loss_fn(outputs, labels)\r\n",
        "    loss.backward()\r\n",
        "    opt.step()\r\n",
        "\r\n",
        "    loss_arr.append(loss.item())\r\n",
        "\r\n",
        "  loss_epoch_arr.append(loss.item())\r\n",
        "  print(\"Epoch : %d/%d, Test acc : %0.2f, Train acc : %0.2f\" %(epoch,max_epochs,evaluation(testloader),evaluation(trainloader)))\r\n",
        "\r\n",
        "plt.plot(loss_epoch_arr)\r\n",
        "plt.show() "
      ],
      "execution_count": 33,
      "outputs": [
        {
          "output_type": "stream",
          "text": [
            "CPU times: user 3 µs, sys: 0 ns, total: 3 µs\n",
            "Wall time: 7.87 µs\n",
            "Epoch : 0/16, Test acc : 37.65, Train acc : 37.92\n",
            "Epoch : 1/16, Test acc : 42.49, Train acc : 42.67\n",
            "Epoch : 2/16, Test acc : 45.40, Train acc : 46.01\n",
            "Epoch : 3/16, Test acc : 47.97, Train acc : 48.98\n",
            "Epoch : 4/16, Test acc : 49.44, Train acc : 51.34\n",
            "Epoch : 5/16, Test acc : 50.77, Train acc : 53.23\n",
            "Epoch : 6/16, Test acc : 52.19, Train acc : 55.40\n",
            "Epoch : 7/16, Test acc : 53.14, Train acc : 56.72\n",
            "Epoch : 8/16, Test acc : 53.01, Train acc : 57.57\n",
            "Epoch : 9/16, Test acc : 53.19, Train acc : 58.01\n",
            "Epoch : 10/16, Test acc : 53.44, Train acc : 59.11\n",
            "Epoch : 11/16, Test acc : 54.55, Train acc : 61.57\n",
            "Epoch : 12/16, Test acc : 55.01, Train acc : 62.00\n",
            "Epoch : 13/16, Test acc : 54.91, Train acc : 63.06\n",
            "Epoch : 14/16, Test acc : 55.15, Train acc : 63.91\n",
            "Epoch : 15/16, Test acc : 55.32, Train acc : 64.79\n"
          ],
          "name": "stdout"
        },
        {
          "output_type": "display_data",
          "data": {
            "image/png": "[encoded data removed]",
            "text/plain": [
              "<Figure size 432x288 with 1 Axes>"
            ]
          },
          "metadata": {
            "tags": [],
            "needs_background": "light"
          }
        }
      ]
    },
    {
      "cell_type": "markdown",
      "metadata": {
        "id": "XcATY9bdMU7L"
      },
      "source": [
        "Overfitting"
      ]
    },
    {
      "cell_type": "markdown",
      "metadata": {
        "id": "mseXZbY_BYF9"
      },
      "source": [
        "## Move to GPU "
      ]
    },
    {
      "cell_type": "code",
      "metadata": {
        "colab": {
          "base_uri": "https://localhost:8080/"
        },
        "id": "eRkdfaCNBagr",
        "outputId": "c58cec4e-4ce3-45f4-89f6-13d2d3e16c0e"
      },
      "source": [
        "device = torch.device(\"cuda:0\" if torch.cuda.is_available() else \"cpu\") \r\n",
        "print(device)"
      ],
      "execution_count": 35,
      "outputs": [
        {
          "output_type": "stream",
          "text": [
            "cuda:0\n"
          ],
          "name": "stdout"
        }
      ]
    },
    {
      "cell_type": "code",
      "metadata": {
        "id": "5BFSPDrJ_5mn"
      },
      "source": [
        "def evaluation(dataloader):\r\n",
        "  total , correct = 0 , 0 \r\n",
        "  for data in dataloader:\r\n",
        "    inputs, labels = data \r\n",
        "    inputs, labels = inputs.to(device), labels.to(device) \r\n",
        "    outputs = net(inputs) \r\n",
        "    _, pred = torch.max(outputs.data, 1) \r\n",
        "    total += labels.size(0) \r\n",
        "    correct += (pred == labels).sum().item()\r\n",
        "  return 100 * correct / total "
      ],
      "execution_count": 36,
      "outputs": []
    },
    {
      "cell_type": "code",
      "metadata": {
        "id": "oJcjTU-DCBDu"
      },
      "source": [
        "net = LeNet().to(device)\r\n",
        "loss_fn = nn.CrossEntropyLoss() \r\n",
        "opt = optim.Adam(net.parameters())"
      ],
      "execution_count": 52,
      "outputs": []
    },
    {
      "cell_type": "code",
      "metadata": {
        "colab": {
          "base_uri": "https://localhost:8080/"
        },
        "id": "Mf-eTiwdCMRi",
        "outputId": "1428ff1e-9ca2-46d3-e299-1abedf6c47d4"
      },
      "source": [
        "%time \r\n",
        "\r\n",
        "max_epochs = 16 \r\n",
        "\r\n",
        "for epoch in range(max_epochs):\r\n",
        "  for i, data in enumerate(trainloader, 0):\r\n",
        "    inputs, labels = data \r\n",
        "    inputs, labels = inputs.to(device), labels.to(device)\r\n",
        "    \r\n",
        "    opt.zero_grad()\r\n",
        "\r\n",
        "    outputs = net(inputs)\r\n",
        "    loss = loss_fn(outputs, labels)\r\n",
        "    loss.backward()\r\n",
        "    opt.step()\r\n",
        "\r\n",
        "  print(\"Epoch : %d/%d\" %(epoch,max_epochs))"
      ],
      "execution_count": 53,
      "outputs": [
        {
          "output_type": "stream",
          "text": [
            "CPU times: user 2 µs, sys: 0 ns, total: 2 µs\n",
            "Wall time: 5.48 µs\n",
            "Epoch : 0/16\n",
            "Epoch : 1/16\n",
            "Epoch : 2/16\n",
            "Epoch : 3/16\n",
            "Epoch : 4/16\n",
            "Epoch : 5/16\n",
            "Epoch : 6/16\n",
            "Epoch : 7/16\n",
            "Epoch : 8/16\n",
            "Epoch : 9/16\n",
            "Epoch : 10/16\n",
            "Epoch : 11/16\n",
            "Epoch : 12/16\n",
            "Epoch : 13/16\n",
            "Epoch : 14/16\n",
            "Epoch : 15/16\n"
          ],
          "name": "stdout"
        }
      ]
    },
    {
      "cell_type": "code",
      "metadata": {
        "colab": {
          "base_uri": "https://localhost:8080/"
        },
        "id": "GUHR88KtLrxB",
        "outputId": "ab439f60-1dfb-4cce-a5a0-a204ffe6f5b4"
      },
      "source": [
        "print(\"Test acc : %0.2f, Train acc : %0.2f\" %(evaluation(testloader),evaluation(trainloader)))"
      ],
      "execution_count": 54,
      "outputs": [
        {
          "output_type": "stream",
          "text": [
            "Test acc : 54.80, Train acc : 64.62\n"
          ],
          "name": "stdout"
        }
      ]
    },
    {
      "cell_type": "markdown",
      "metadata": {
        "id": "Hv9j0Mg4NEjD"
      },
      "source": [
        "## Basic Visualization "
      ]
    },
    {
      "cell_type": "code",
      "metadata": {
        "colab": {
          "base_uri": "https://localhost:8080/",
          "height": 138
        },
        "id": "jzhTaDZXNG5v",
        "outputId": "1f7bafdc-66ff-4731-d23d-159aacaf7438"
      },
      "source": [
        "imshow(torchvision.utils.make_grid(images))"
      ],
      "execution_count": 40,
      "outputs": [
        {
          "output_type": "display_data",
          "data": {
            "image/png": "[encoded data removed]",
            "text/plain": [
              "<Figure size 432x288 with 1 Axes>"
            ]
          },
          "metadata": {
            "tags": [],
            "needs_background": "light"
          }
        }
      ]
    },
    {
      "cell_type": "code",
      "metadata": {
        "id": "xVBFuRMmNOS5"
      },
      "source": [
        "net = net.to(\"cpu\")"
      ],
      "execution_count": 41,
      "outputs": []
    },
    {
      "cell_type": "code",
      "metadata": {
        "colab": {
          "base_uri": "https://localhost:8080/"
        },
        "id": "jxRHgB08Nev8",
        "outputId": "3d586d02-ab7a-45f2-94bc-041b3435d624"
      },
      "source": [
        "out = net(images) # gives us the final output \r\n",
        "print(out.shape) "
      ],
      "execution_count": 42,
      "outputs": [
        {
          "output_type": "stream",
          "text": [
            "torch.Size([4, 10])\n"
          ],
          "name": "stdout"
        }
      ]
    },
    {
      "cell_type": "code",
      "metadata": {
        "colab": {
          "base_uri": "https://localhost:8080/"
        },
        "id": "yvo0IqSVNmbv",
        "outputId": "613a8e4b-a292-4501-a560-a0e2276ae4a5"
      },
      "source": [
        "# to access the ouput of the first layer in our sequential \r\n",
        "out = net.cnn_model[0](images) \r\n",
        "out.shape"
      ],
      "execution_count": 43,
      "outputs": [
        {
          "output_type": "execute_result",
          "data": {
            "text/plain": [
              "torch.Size([4, 6, 28, 28])"
            ]
          },
          "metadata": {
            "tags": []
          },
          "execution_count": 43
        }
      ]
    },
    {
      "cell_type": "code",
      "metadata": {
        "colab": {
          "base_uri": "https://localhost:8080/",
          "height": 159
        },
        "id": "XBMlEVO3N3BE",
        "outputId": "573af93f-798f-469c-ae81-62dcbf659e4a"
      },
      "source": [
        "image_id = 1 \r\n",
        "plt.figure(figsize = (2,2)) \r\n",
        "imshow(images[image_id])"
      ],
      "execution_count": 44,
      "outputs": [
        {
          "output_type": "display_data",
          "data": {
            "image/png": "[encoded data removed]",
            "text/plain": [
              "<Figure size 144x144 with 1 Axes>"
            ]
          },
          "metadata": {
            "tags": [],
            "needs_background": "light"
          }
        }
      ]
    },
    {
      "cell_type": "code",
      "metadata": {
        "colab": {
          "base_uri": "https://localhost:8080/",
          "height": 430
        },
        "id": "wh1GGL9VOHCc",
        "outputId": "453c5872-19cb-455f-f4a7-a7dfdea9f594"
      },
      "source": [
        "plt.figure(figsize = (6,6)) \r\n",
        "plt.subplot(321) \r\n",
        "for i in range (6) : \r\n",
        "  ax1 = plt.subplot(3,2,i+1) \r\n",
        "  plt.imshow(out[image_id,i,:,:].detach().numpy(), cmap = \"binary\")\r\n",
        "plt.show()"
      ],
      "execution_count": 45,
      "outputs": [
        {
          "output_type": "stream",
          "text": [
            "/usr/local/lib/python3.7/dist-packages/ipykernel_launcher.py:4: MatplotlibDeprecationWarning: Adding an axes using the same arguments as a previous axes currently reuses the earlier instance.  In a future version, a new instance will always be created and returned.  Meanwhile, this warning can be suppressed, and the future behavior ensured, by passing a unique label to each axes instance.\n",
            "  after removing the cwd from sys.path.\n"
          ],
          "name": "stderr"
        },
        {
          "output_type": "display_data",
          "data": {
            "image/png": "[encoded data removed]",
            "text/plain": [
              "<Figure size 432x432 with 6 Axes>"
            ]
          },
          "metadata": {
            "tags": [],
            "needs_background": "light"
          }
        }
      ]
    }
  ]
}