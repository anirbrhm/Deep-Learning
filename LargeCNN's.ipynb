{
  "nbformat": 4,
  "nbformat_minor": 0,
  "metadata": {
    "colab": {
      "name": "LargeCNN's.ipynb",
      "provenance": [],
      "collapsed_sections": [],
      "authorship_tag": "ABX9TyOh4YJ2l8huLRnBuTmMmjbp",
      "include_colab_link": true
    },
    "kernelspec": {
      "display_name": "Python 3",
      "name": "python3"
    },
    "accelerator": "GPU",
    "widgets": {
      "application/vnd.jupyter.widget-state+json": {
        "2e68f58e93fa48aea92f26071d0952e0": {
          "model_module": "@jupyter-widgets/controls",
          "model_name": "HBoxModel",
          "state": {
            "_view_name": "HBoxView",
            "_dom_classes": [],
            "_model_name": "HBoxModel",
            "_view_module": "@jupyter-widgets/controls",
            "_model_module_version": "1.5.0",
            "_view_count": null,
            "_view_module_version": "1.5.0",
            "box_style": "",
            "layout": "IPY_MODEL_5944ab00117047e99abecd14920990c2",
            "_model_module": "@jupyter-widgets/controls",
            "children": [
              "IPY_MODEL_6d8711ea1e3643b0a4547ec5c11bf5d2",
              "IPY_MODEL_ce9e6e6bdff74752947bb4b1f8618daa"
            ]
          }
        },
        "5944ab00117047e99abecd14920990c2": {
          "model_module": "@jupyter-widgets/base",
          "model_name": "LayoutModel",
          "state": {
            "_view_name": "LayoutView",
            "grid_template_rows": null,
            "right": null,
            "justify_content": null,
            "_view_module": "@jupyter-widgets/base",
            "overflow": null,
            "_model_module_version": "1.2.0",
            "_view_count": null,
            "flex_flow": null,
            "width": null,
            "min_width": null,
            "border": null,
            "align_items": null,
            "bottom": null,
            "_model_module": "@jupyter-widgets/base",
            "top": null,
            "grid_column": null,
            "overflow_y": null,
            "overflow_x": null,
            "grid_auto_flow": null,
            "grid_area": null,
            "grid_template_columns": null,
            "flex": null,
            "_model_name": "LayoutModel",
            "justify_items": null,
            "grid_row": null,
            "max_height": null,
            "align_content": null,
            "visibility": null,
            "align_self": null,
            "height": null,
            "min_height": null,
            "padding": null,
            "grid_auto_rows": null,
            "grid_gap": null,
            "max_width": null,
            "order": null,
            "_view_module_version": "1.2.0",
            "grid_template_areas": null,
            "object_position": null,
            "object_fit": null,
            "grid_auto_columns": null,
            "margin": null,
            "display": null,
            "left": null
          }
        },
        "6d8711ea1e3643b0a4547ec5c11bf5d2": {
          "model_module": "@jupyter-widgets/controls",
          "model_name": "FloatProgressModel",
          "state": {
            "_view_name": "ProgressView",
            "style": "IPY_MODEL_c34fa37958b041cebcf6ae87a513f6fa",
            "_dom_classes": [],
            "description": "100%",
            "_model_name": "FloatProgressModel",
            "bar_style": "success",
            "max": 46827520,
            "_view_module": "@jupyter-widgets/controls",
            "_model_module_version": "1.5.0",
            "value": 46827520,
            "_view_count": null,
            "_view_module_version": "1.5.0",
            "orientation": "horizontal",
            "min": 0,
            "description_tooltip": null,
            "_model_module": "@jupyter-widgets/controls",
            "layout": "IPY_MODEL_d3c81c178b0e4cd9a4b7454b96ba51bf"
          }
        },
        "ce9e6e6bdff74752947bb4b1f8618daa": {
          "model_module": "@jupyter-widgets/controls",
          "model_name": "HTMLModel",
          "state": {
            "_view_name": "HTMLView",
            "style": "IPY_MODEL_06f97ae3c0ba4b199e0ee23c7429341e",
            "_dom_classes": [],
            "description": "",
            "_model_name": "HTMLModel",
            "placeholder": "​",
            "_view_module": "@jupyter-widgets/controls",
            "_model_module_version": "1.5.0",
            "value": " 44.7M/44.7M [00:00&lt;00:00, 142MB/s]",
            "_view_count": null,
            "_view_module_version": "1.5.0",
            "description_tooltip": null,
            "_model_module": "@jupyter-widgets/controls",
            "layout": "IPY_MODEL_dad2ccf1ad6148009bc735459fbadfb1"
          }
        },
        "c34fa37958b041cebcf6ae87a513f6fa": {
          "model_module": "@jupyter-widgets/controls",
          "model_name": "ProgressStyleModel",
          "state": {
            "_view_name": "StyleView",
            "_model_name": "ProgressStyleModel",
            "description_width": "initial",
            "_view_module": "@jupyter-widgets/base",
            "_model_module_version": "1.5.0",
            "_view_count": null,
            "_view_module_version": "1.2.0",
            "bar_color": null,
            "_model_module": "@jupyter-widgets/controls"
          }
        },
        "d3c81c178b0e4cd9a4b7454b96ba51bf": {
          "model_module": "@jupyter-widgets/base",
          "model_name": "LayoutModel",
          "state": {
            "_view_name": "LayoutView",
            "grid_template_rows": null,
            "right": null,
            "justify_content": null,
            "_view_module": "@jupyter-widgets/base",
            "overflow": null,
            "_model_module_version": "1.2.0",
            "_view_count": null,
            "flex_flow": null,
            "width": null,
            "min_width": null,
            "border": null,
            "align_items": null,
            "bottom": null,
            "_model_module": "@jupyter-widgets/base",
            "top": null,
            "grid_column": null,
            "overflow_y": null,
            "overflow_x": null,
            "grid_auto_flow": null,
            "grid_area": null,
            "grid_template_columns": null,
            "flex": null,
            "_model_name": "LayoutModel",
            "justify_items": null,
            "grid_row": null,
            "max_height": null,
            "align_content": null,
            "visibility": null,
            "align_self": null,
            "height": null,
            "min_height": null,
            "padding": null,
            "grid_auto_rows": null,
            "grid_gap": null,
            "max_width": null,
            "order": null,
            "_view_module_version": "1.2.0",
            "grid_template_areas": null,
            "object_position": null,
            "object_fit": null,
            "grid_auto_columns": null,
            "margin": null,
            "display": null,
            "left": null
          }
        },
        "06f97ae3c0ba4b199e0ee23c7429341e": {
          "model_module": "@jupyter-widgets/controls",
          "model_name": "DescriptionStyleModel",
          "state": {
            "_view_name": "StyleView",
            "_model_name": "DescriptionStyleModel",
            "description_width": "",
            "_view_module": "@jupyter-widgets/base",
            "_model_module_version": "1.5.0",
            "_view_count": null,
            "_view_module_version": "1.2.0",
            "_model_module": "@jupyter-widgets/controls"
          }
        },
        "dad2ccf1ad6148009bc735459fbadfb1": {
          "model_module": "@jupyter-widgets/base",
          "model_name": "LayoutModel",
          "state": {
            "_view_name": "LayoutView",
            "grid_template_rows": null,
            "right": null,
            "justify_content": null,
            "_view_module": "@jupyter-widgets/base",
            "overflow": null,
            "_model_module_version": "1.2.0",
            "_view_count": null,
            "flex_flow": null,
            "width": null,
            "min_width": null,
            "border": null,
            "align_items": null,
            "bottom": null,
            "_model_module": "@jupyter-widgets/base",
            "top": null,
            "grid_column": null,
            "overflow_y": null,
            "overflow_x": null,
            "grid_auto_flow": null,
            "grid_area": null,
            "grid_template_columns": null,
            "flex": null,
            "_model_name": "LayoutModel",
            "justify_items": null,
            "grid_row": null,
            "max_height": null,
            "align_content": null,
            "visibility": null,
            "align_self": null,
            "height": null,
            "min_height": null,
            "padding": null,
            "grid_auto_rows": null,
            "grid_gap": null,
            "max_width": null,
            "order": null,
            "_view_module_version": "1.2.0",
            "grid_template_areas": null,
            "object_position": null,
            "object_fit": null,
            "grid_auto_columns": null,
            "margin": null,
            "display": null,
            "left": null
          }
        },
        "1d5acb79f85a4362a9df0f18c9a082b3": {
          "model_module": "@jupyter-widgets/controls",
          "model_name": "HBoxModel",
          "state": {
            "_view_name": "HBoxView",
            "_dom_classes": [],
            "_model_name": "HBoxModel",
            "_view_module": "@jupyter-widgets/controls",
            "_model_module_version": "1.5.0",
            "_view_count": null,
            "_view_module_version": "1.5.0",
            "box_style": "",
            "layout": "IPY_MODEL_79b75fcb4c6843e0885b451603b1ff2a",
            "_model_module": "@jupyter-widgets/controls",
            "children": [
              "IPY_MODEL_6eb5f5f5e4424d28864c9f5e0ad1a699",
              "IPY_MODEL_3729cd96a9cf416fb03f91b37b83f70a"
            ]
          }
        },
        "79b75fcb4c6843e0885b451603b1ff2a": {
          "model_module": "@jupyter-widgets/base",
          "model_name": "LayoutModel",
          "state": {
            "_view_name": "LayoutView",
            "grid_template_rows": null,
            "right": null,
            "justify_content": null,
            "_view_module": "@jupyter-widgets/base",
            "overflow": null,
            "_model_module_version": "1.2.0",
            "_view_count": null,
            "flex_flow": null,
            "width": null,
            "min_width": null,
            "border": null,
            "align_items": null,
            "bottom": null,
            "_model_module": "@jupyter-widgets/base",
            "top": null,
            "grid_column": null,
            "overflow_y": null,
            "overflow_x": null,
            "grid_auto_flow": null,
            "grid_area": null,
            "grid_template_columns": null,
            "flex": null,
            "_model_name": "LayoutModel",
            "justify_items": null,
            "grid_row": null,
            "max_height": null,
            "align_content": null,
            "visibility": null,
            "align_self": null,
            "height": null,
            "min_height": null,
            "padding": null,
            "grid_auto_rows": null,
            "grid_gap": null,
            "max_width": null,
            "order": null,
            "_view_module_version": "1.2.0",
            "grid_template_areas": null,
            "object_position": null,
            "object_fit": null,
            "grid_auto_columns": null,
            "margin": null,
            "display": null,
            "left": null
          }
        },
        "6eb5f5f5e4424d28864c9f5e0ad1a699": {
          "model_module": "@jupyter-widgets/controls",
          "model_name": "FloatProgressModel",
          "state": {
            "_view_name": "ProgressView",
            "style": "IPY_MODEL_200d562c288549fb92e508d8dd33df49",
            "_dom_classes": [],
            "description": "100%",
            "_model_name": "FloatProgressModel",
            "bar_style": "success",
            "max": 108857766,
            "_view_module": "@jupyter-widgets/controls",
            "_model_module_version": "1.5.0",
            "value": 108857766,
            "_view_count": null,
            "_view_module_version": "1.5.0",
            "orientation": "horizontal",
            "min": 0,
            "description_tooltip": null,
            "_model_module": "@jupyter-widgets/controls",
            "layout": "IPY_MODEL_9d68c15ffdad44c58507048d8aa0047f"
          }
        },
        "3729cd96a9cf416fb03f91b37b83f70a": {
          "model_module": "@jupyter-widgets/controls",
          "model_name": "HTMLModel",
          "state": {
            "_view_name": "HTMLView",
            "style": "IPY_MODEL_89780169f1044506abcb0d6a94b99599",
            "_dom_classes": [],
            "description": "",
            "_model_name": "HTMLModel",
            "placeholder": "​",
            "_view_module": "@jupyter-widgets/controls",
            "_model_module_version": "1.5.0",
            "value": " 104M/104M [00:02&lt;00:00, 42.8MB/s]",
            "_view_count": null,
            "_view_module_version": "1.5.0",
            "description_tooltip": null,
            "_model_module": "@jupyter-widgets/controls",
            "layout": "IPY_MODEL_0196b52f00644b6d8ebb8eef82ebe06f"
          }
        },
        "200d562c288549fb92e508d8dd33df49": {
          "model_module": "@jupyter-widgets/controls",
          "model_name": "ProgressStyleModel",
          "state": {
            "_view_name": "StyleView",
            "_model_name": "ProgressStyleModel",
            "description_width": "initial",
            "_view_module": "@jupyter-widgets/base",
            "_model_module_version": "1.5.0",
            "_view_count": null,
            "_view_module_version": "1.2.0",
            "bar_color": null,
            "_model_module": "@jupyter-widgets/controls"
          }
        },
        "9d68c15ffdad44c58507048d8aa0047f": {
          "model_module": "@jupyter-widgets/base",
          "model_name": "LayoutModel",
          "state": {
            "_view_name": "LayoutView",
            "grid_template_rows": null,
            "right": null,
            "justify_content": null,
            "_view_module": "@jupyter-widgets/base",
            "overflow": null,
            "_model_module_version": "1.2.0",
            "_view_count": null,
            "flex_flow": null,
            "width": null,
            "min_width": null,
            "border": null,
            "align_items": null,
            "bottom": null,
            "_model_module": "@jupyter-widgets/base",
            "top": null,
            "grid_column": null,
            "overflow_y": null,
            "overflow_x": null,
            "grid_auto_flow": null,
            "grid_area": null,
            "grid_template_columns": null,
            "flex": null,
            "_model_name": "LayoutModel",
            "justify_items": null,
            "grid_row": null,
            "max_height": null,
            "align_content": null,
            "visibility": null,
            "align_self": null,
            "height": null,
            "min_height": null,
            "padding": null,
            "grid_auto_rows": null,
            "grid_gap": null,
            "max_width": null,
            "order": null,
            "_view_module_version": "1.2.0",
            "grid_template_areas": null,
            "object_position": null,
            "object_fit": null,
            "grid_auto_columns": null,
            "margin": null,
            "display": null,
            "left": null
          }
        },
        "89780169f1044506abcb0d6a94b99599": {
          "model_module": "@jupyter-widgets/controls",
          "model_name": "DescriptionStyleModel",
          "state": {
            "_view_name": "StyleView",
            "_model_name": "DescriptionStyleModel",
            "description_width": "",
            "_view_module": "@jupyter-widgets/base",
            "_model_module_version": "1.5.0",
            "_view_count": null,
            "_view_module_version": "1.2.0",
            "_model_module": "@jupyter-widgets/controls"
          }
        },
        "0196b52f00644b6d8ebb8eef82ebe06f": {
          "model_module": "@jupyter-widgets/base",
          "model_name": "LayoutModel",
          "state": {
            "_view_name": "LayoutView",
            "grid_template_rows": null,
            "right": null,
            "justify_content": null,
            "_view_module": "@jupyter-widgets/base",
            "overflow": null,
            "_model_module_version": "1.2.0",
            "_view_count": null,
            "flex_flow": null,
            "width": null,
            "min_width": null,
            "border": null,
            "align_items": null,
            "bottom": null,
            "_model_module": "@jupyter-widgets/base",
            "top": null,
            "grid_column": null,
            "overflow_y": null,
            "overflow_x": null,
            "grid_auto_flow": null,
            "grid_area": null,
            "grid_template_columns": null,
            "flex": null,
            "_model_name": "LayoutModel",
            "justify_items": null,
            "grid_row": null,
            "max_height": null,
            "align_content": null,
            "visibility": null,
            "align_self": null,
            "height": null,
            "min_height": null,
            "padding": null,
            "grid_auto_rows": null,
            "grid_gap": null,
            "max_width": null,
            "order": null,
            "_view_module_version": "1.2.0",
            "grid_template_areas": null,
            "object_position": null,
            "object_fit": null,
            "grid_auto_columns": null,
            "margin": null,
            "display": null,
            "left": null
          }
        }
      }
    }
  },
  "cells": [
    {
      "cell_type": "markdown",
      "metadata": {
        "id": "view-in-github",
        "colab_type": "text"
      },
      "source": [
        "<a href=\"https://colab.research.google.com/github/anirbrhm/Deep-Learning/blob/main/LargeCNN's.ipynb\" target=\"_parent\"><img src=\"https://colab.research.google.com/assets/colab-badge.svg\" alt=\"Open In Colab\"/></a>"
      ]
    },
    {
      "cell_type": "code",
      "metadata": {
        "id": "a8SXRXK75hn2"
      },
      "source": [
        "import numpy as np \r\n",
        "import matplotlib.pyplot as plt \r\n",
        "\r\n",
        "import torch \r\n",
        "import torchvision \r\n",
        "import torchvision.transforms as transforms\r\n",
        "import torch.nn as nn\r\n",
        "import torch.optim as optim"
      ],
      "execution_count": 53,
      "outputs": []
    },
    {
      "cell_type": "code",
      "metadata": {
        "colab": {
          "base_uri": "https://localhost:8080/"
        },
        "id": "vMP0q0hi6kYX",
        "outputId": "558e4b5b-3456-4e86-d721-ad42477b6348"
      },
      "source": [
        "device = torch.device(\"cuda:0\" if torch.cuda.is_available() else \"cpu\") \r\n",
        "print(device)"
      ],
      "execution_count": 54,
      "outputs": [
        {
          "output_type": "stream",
          "text": [
            "cuda:0\n"
          ],
          "name": "stdout"
        }
      ]
    },
    {
      "cell_type": "markdown",
      "metadata": {
        "id": "HMPhkMfeRs08"
      },
      "source": [
        "## Datasets, Transform and visualization"
      ]
    },
    {
      "cell_type": "code",
      "metadata": {
        "id": "_LrnuoYERvny"
      },
      "source": [
        "transform_train = transforms.Compose([\r\n",
        "  transforms.RandomResizedCrop(224), # crops from a random area. \r\n",
        "  transforms.ToTensor(),\r\n",
        "  transforms.Normalize((0.5,0.5,0.5), (0.5,0.5,0.5)) # for example of a thermal image in which the R channels might look a lot different than the other two, then the model might have\r\n",
        "  # to learn these weights to adapt to this. But we can preprocess (mean and std dev) of the red channel to adapt to that already.                               \r\n",
        "])\r\n",
        "\r\n",
        "# we are not transforming the images of the datasets differently for train and test datasets but we can do it. \r\n",
        "# for example we can do some form of data augumentation on the training dataset (horizontal flipping etc.) for generating more samples, but not on the test dataset. \r\n",
        "\r\n",
        "transform_test = transforms.Compose([\r\n",
        "  transforms.RandomResizedCrop(224),\r\n",
        "  transforms.ToTensor(),\r\n",
        "  transforms.Normalize((0.5,0.5,0.5), (0.5,0.5,0.5))                                     \r\n",
        "])"
      ],
      "execution_count": 55,
      "outputs": []
    },
    {
      "cell_type": "code",
      "metadata": {
        "colab": {
          "base_uri": "https://localhost:8080/"
        },
        "id": "94ku7ibE7DvH",
        "outputId": "f25abc51-4cb9-4c67-9a49-5705db6fa64b"
      },
      "source": [
        "trainset = torchvision.datasets.CIFAR10(root = \"./data\", train = True, download = True,transform= transform_train)\r\n",
        "testset = torchvision.datasets.CIFAR10(root = \"./data\", train = False, download = True,transform= transform_test)"
      ],
      "execution_count": 56,
      "outputs": [
        {
          "output_type": "stream",
          "text": [
            "Files already downloaded and verified\n",
            "Files already downloaded and verified\n"
          ],
          "name": "stdout"
        }
      ]
    },
    {
      "cell_type": "code",
      "metadata": {
        "id": "5zK9u9Ncb1z5"
      },
      "source": [
        "num_classes = 10 "
      ],
      "execution_count": 57,
      "outputs": []
    },
    {
      "cell_type": "code",
      "metadata": {
        "id": "qV-3FiVScNos"
      },
      "source": [
        "batch_size = 4 "
      ],
      "execution_count": 58,
      "outputs": []
    },
    {
      "cell_type": "code",
      "metadata": {
        "id": "XYCrC86ycPwX"
      },
      "source": [
        "trainloader = torch.utils.data.DataLoader(trainset, batch_size=batch_size, shuffle=True)"
      ],
      "execution_count": 59,
      "outputs": []
    },
    {
      "cell_type": "code",
      "metadata": {
        "colab": {
          "base_uri": "https://localhost:8080/"
        },
        "id": "NFRGRtjgcX5W",
        "outputId": "a84263a9-367c-4d57-f718-592e174b4357"
      },
      "source": [
        "dataiter = iter(trainloader) # create an iterator \r\n",
        "images, labels = dataiter.next() # gives me one instance of trainloader (4 images) \r\n",
        "\r\n",
        "print(images.shape) \r\n",
        "\r\n",
        "print(images[0].shape)\r\n",
        "print(labels[0].item())"
      ],
      "execution_count": 60,
      "outputs": [
        {
          "output_type": "stream",
          "text": [
            "torch.Size([4, 3, 224, 224])\n",
            "torch.Size([3, 224, 224])\n",
            "4\n"
          ],
          "name": "stdout"
        }
      ]
    },
    {
      "cell_type": "code",
      "metadata": {
        "id": "xoUowpKhcfGd"
      },
      "source": [
        "def imshow(img, title):\r\n",
        "  npimg = img.numpy() * 0.5 + 0.5 # un-normalizing the image so that we get to see the original image \r\n",
        "  plt.figure(figsize=(batch_size,1))\r\n",
        "  plt.axis(\"off\") \r\n",
        "  plt.imshow(np.transpose(npimg,(1,2,0)))\r\n",
        "  plt.title(title)\r\n",
        "  plt.show()"
      ],
      "execution_count": 61,
      "outputs": []
    },
    {
      "cell_type": "code",
      "metadata": {
        "id": "yteVTuINda1L"
      },
      "source": [
        "def show_batch_images(dataloader):\r\n",
        "  images, labels = next(iter(dataloader))\r\n",
        "  img = torchvision.utils.make_grid(images)\r\n",
        "  imshow(img, title = [str(x.item()) for x in labels])"
      ],
      "execution_count": 62,
      "outputs": []
    },
    {
      "cell_type": "code",
      "metadata": {
        "colab": {
          "base_uri": "https://localhost:8080/",
          "height": 353
        },
        "id": "SJokpmkwgXYW",
        "outputId": "05ca3191-b221-45bc-94e2-dd03c85d4907"
      },
      "source": [
        "for i in range(4):\r\n",
        "  show_batch_images(trainloader)"
      ],
      "execution_count": 63,
      "outputs": [
        {
          "output_type": "display_data",
          "data": {
            "image/png": "[encoded data removed]",
            "text/plain": [
              "<Figure size 288x72 with 1 Axes>"
            ]
          },
          "metadata": {
            "tags": [],
            "needs_background": "light"
          }
        },
        {
          "output_type": "display_data",
          "data": {
            "image/png": "[encoded data removed]",
            "text/plain": [
              "<Figure size 288x72 with 1 Axes>"
            ]
          },
          "metadata": {
            "tags": [],
            "needs_background": "light"
          }
        },
        {
          "output_type": "display_data",
          "data": {
            "image/png": "[encoded data removed]",
            "text/plain": [
              "<Figure size 288x72 with 1 Axes>"
            ]
          },
          "metadata": {
            "tags": [],
            "needs_background": "light"
          }
        },
        {
          "output_type": "display_data",
          "data": {
            "image/png": "[encoded data removed]",
            "text/plain": [
              "<Figure size 288x72 with 1 Axes>"
            ]
          },
          "metadata": {
            "tags": [],
            "needs_background": "light"
          }
        }
      ]
    },
    {
      "cell_type": "markdown",
      "metadata": {
        "id": "dDCyc4Mw7UlV"
      },
      "source": [
        "## Creating VGG-16 "
      ]
    },
    {
      "cell_type": "code",
      "metadata": {
        "id": "4pe3JH8D7XFO"
      },
      "source": [
        "from torchvision import models "
      ],
      "execution_count": 64,
      "outputs": []
    },
    {
      "cell_type": "code",
      "metadata": {
        "id": "i5-ywdCEgdwD"
      },
      "source": [
        "vgg = models.vgg16_bn()"
      ],
      "execution_count": 65,
      "outputs": []
    },
    {
      "cell_type": "code",
      "metadata": {
        "id": "ZOatV2Vx7kww"
      },
      "source": [
        "print(vgg)"
      ],
      "execution_count": null,
      "outputs": []
    },
    {
      "cell_type": "code",
      "metadata": {
        "colab": {
          "base_uri": "https://localhost:8080/"
        },
        "id": "Zj3ZdZHw7mIw",
        "outputId": "3757b804-424f-469d-b8ea-495a635d6290"
      },
      "source": [
        "print(vgg.features[0])"
      ],
      "execution_count": 67,
      "outputs": [
        {
          "output_type": "stream",
          "text": [
            "Conv2d(3, 64, kernel_size=(3, 3), stride=(1, 1), padding=(1, 1))\n"
          ],
          "name": "stdout"
        }
      ]
    },
    {
      "cell_type": "code",
      "metadata": {
        "colab": {
          "base_uri": "https://localhost:8080/"
        },
        "id": "tzV4y3_k7wjh",
        "outputId": "01a89e7d-13b2-4beb-d70e-f93106714dad"
      },
      "source": [
        "print(vgg.classifier[6])"
      ],
      "execution_count": 68,
      "outputs": [
        {
          "output_type": "stream",
          "text": [
            "Linear(in_features=4096, out_features=1000, bias=True)\n"
          ],
          "name": "stdout"
        }
      ]
    },
    {
      "cell_type": "markdown",
      "metadata": {
        "id": "lN6c5GhK7_hZ"
      },
      "source": [
        "To use this model for our CIFAR-10 dataset we have to modify this so that our last layer has only 10 out_features and not 1000\r\n",
        "\r\n",
        "One approach is to specify the num_classes = 10 while initializing the model\r\n",
        "\r\n",
        "Second approach : "
      ]
    },
    {
      "cell_type": "code",
      "metadata": {
        "colab": {
          "base_uri": "https://localhost:8080/"
        },
        "id": "3BavbqNc72jb",
        "outputId": "9da159c0-d7b7-4af9-dd4a-5405625d7e11"
      },
      "source": [
        "final_in_features = vgg.classifier[6].in_features\r\n",
        "mod_classifier = list(vgg.classifier.children())[:-1] # our modified classifier contains all the children of the vgg classifier except the last one (slicing)\r\n",
        "mod_classifier.extend([nn.Linear(final_in_features, num_classes)]) # our last layer is this. \r\n",
        "print(mod_classifier)"
      ],
      "execution_count": 69,
      "outputs": [
        {
          "output_type": "stream",
          "text": [
            "[Linear(in_features=25088, out_features=4096, bias=True), ReLU(inplace=True), Dropout(p=0.5, inplace=False), Linear(in_features=4096, out_features=4096, bias=True), ReLU(inplace=True), Dropout(p=0.5, inplace=False), Linear(in_features=4096, out_features=10, bias=True)]\n"
          ],
          "name": "stdout"
        }
      ]
    },
    {
      "cell_type": "code",
      "metadata": {
        "id": "EMSgnzJb9cUx"
      },
      "source": [
        "vgg.classifier = nn.Sequential(*mod_classifier)\r\n",
        "print(vgg)"
      ],
      "execution_count": null,
      "outputs": []
    },
    {
      "cell_type": "markdown",
      "metadata": {
        "id": "RqQmHk_b-rnE"
      },
      "source": [
        "## Train CIFAR-10"
      ]
    },
    {
      "cell_type": "code",
      "metadata": {
        "id": "gu2autcS-Q-T"
      },
      "source": [
        "batch_size = 16 # should not use small batch sizes for training as the gradients may then be biased towards a stray data point \r\n",
        "# cannot also use a very large batch size for training as the GPU is not big enough to store a lot of data\r\n",
        "# so we make them as large as it is allowed in my GPU memory \r\n",
        "\r\n",
        "trainloader = torch.utils.data.DataLoader(trainset, batch_size=batch_size, shuffle=True)\r\n",
        "testloader = torch.utils.data.DataLoader(testset, batch_size=batch_size, shuffle=False) # no need for shuffling  "
      ],
      "execution_count": 71,
      "outputs": []
    },
    {
      "cell_type": "code",
      "metadata": {
        "id": "A6AifKvv_D2n"
      },
      "source": [
        "def evaluation(dataloader, model):\r\n",
        "  total , correct = 0 , 0 \r\n",
        "  for data in dataloader:\r\n",
        "    inputs, labels = data \r\n",
        "    inputs, labels = inputs.to(device), labels.to(device) \r\n",
        "    outputs = model(inputs) \r\n",
        "    _, pred = torch.max(outputs.data, 1) \r\n",
        "    total += labels.size(0) \r\n",
        "    correct += (pred == labels).sum().item()\r\n",
        "  return 100 * correct / total "
      ],
      "execution_count": 72,
      "outputs": []
    },
    {
      "cell_type": "code",
      "metadata": {
        "id": "e5NLc2dM_Elz"
      },
      "source": [
        "vgg = vgg.to(device)\r\n",
        "loss_fn = nn.CrossEntropyLoss()\r\n",
        "opt = optim.SGD(vgg.parameters(), lr = 0.05)"
      ],
      "execution_count": 21,
      "outputs": []
    },
    {
      "cell_type": "code",
      "metadata": {
        "id": "X5IqYRJ8CZ1U"
      },
      "source": [
        "# import time \n",
        "\n",
        "# %time \n",
        "\n",
        "# loss_epoch_arr = []\n",
        "# max_epochs = 1\n",
        "\n",
        "# n_iters = np.ceil(50000/batch_size)\n",
        "\n",
        "# for epoch in range(max_epochs):\n",
        "#   for i, data in enumerate(trainloader, 0):\n",
        "#     inputs, labels = data \n",
        "#     inputs, labels = inputs.to(device), labels.to(device)\n",
        "\n",
        "#     opt.zero_grad()\n",
        "\n",
        "#     outputs = vgg(inputs)\n",
        "#     loss = loss_fn(outputs, labels)\n",
        "#     loss.backward()\n",
        "#     opt.step()\n",
        "\n",
        "#     del inputs, labels, outputs\n",
        "#     torch.cuda.empty_cache() # to ensure memory usage in the GPU is small \n",
        "\n",
        "#     if (i % 100) == 0:\n",
        "#       print(\"Iteration : %d/%d, Loss : %0.2f\" %(i,n_iters,loss.item()))\n",
        "\n",
        "#   loss_epoch_arr.append(loss.item())\n",
        "#   print(\"Epoch : %d/%d, Test acc : %0.2f, Train acc : %0.2f\" %(epoch,max_epochs,evaluation(testloader, vgg),evaluation(trainloader, vgg)))\n",
        "\n",
        "# plt.plot(loss_epoch_arr)\n",
        "# plt.show() "
      ],
      "execution_count": 91,
      "outputs": []
    },
    {
      "cell_type": "markdown",
      "metadata": {
        "id": "69Gz-LX_ab_G"
      },
      "source": [
        "## Freeze Layers of Convolutional Operations"
      ]
    },
    {
      "cell_type": "code",
      "metadata": {
        "id": "6WyAQRqYHSQV"
      },
      "source": [
        "batch_size = 16 # should not use small batch sizes for training as the gradients may then be biased towards a stray data point \r\n",
        "# cannot also use a very large batch size for training as the GPU is not big enough to store a lot of data\r\n",
        "# so we make them as large as it is allowed in my GPU memory \r\n",
        "\r\n",
        "trainloader = torch.utils.data.DataLoader(trainset, batch_size=batch_size, shuffle=True)\r\n",
        "testloader = torch.utils.data.DataLoader(testset, batch_size=batch_size, shuffle=False) # no need for shuffling  "
      ],
      "execution_count": 73,
      "outputs": []
    },
    {
      "cell_type": "code",
      "metadata": {
        "id": "jWhGyZH2a2My"
      },
      "source": [
        "vgg = models.vgg16_bn(pretrained=True) # already learned parameters for the IMAGENET challenge"
      ],
      "execution_count": 74,
      "outputs": []
    },
    {
      "cell_type": "code",
      "metadata": {
        "colab": {
          "base_uri": "https://localhost:8080/"
        },
        "id": "eIButKmPbDCd",
        "outputId": "c525e1e8-bde1-4f39-b174-1e851b879aac"
      },
      "source": [
        "final_in_features = vgg.classifier[6].in_features\r\n",
        "mod_classifier = list(vgg.classifier.children())[:-1] # our modified classifier contains all the children of the vgg classifier except the last one (slicing)\r\n",
        "mod_classifier.extend([nn.Linear(final_in_features, num_classes)]) # our last layer is this. \r\n",
        "print(mod_classifier)"
      ],
      "execution_count": 75,
      "outputs": [
        {
          "output_type": "stream",
          "text": [
            "[Linear(in_features=25088, out_features=4096, bias=True), ReLU(inplace=True), Dropout(p=0.5, inplace=False), Linear(in_features=4096, out_features=4096, bias=True), ReLU(inplace=True), Dropout(p=0.5, inplace=False), Linear(in_features=4096, out_features=10, bias=True)]\n"
          ],
          "name": "stdout"
        }
      ]
    },
    {
      "cell_type": "code",
      "metadata": {
        "id": "7UmGpfbbbNfJ"
      },
      "source": [
        "for param in vgg.parameters():\r\n",
        "  param.requires_grad = False\r\n",
        "# but now there will be no training , so we need some parameters to be unfrozen\r\n",
        "# so we do that in the last layer, where we delete the present layer and add our own layer"
      ],
      "execution_count": 76,
      "outputs": []
    },
    {
      "cell_type": "code",
      "metadata": {
        "id": "hQ53vN58boQY"
      },
      "source": [
        "final_in_features = vgg.classifier[6].in_features\r\n",
        "vgg.classifier[6] = nn.Linear(final_in_features,num_classes) # by default sets requires_grad = True"
      ],
      "execution_count": 77,
      "outputs": []
    },
    {
      "cell_type": "code",
      "metadata": {
        "colab": {
          "base_uri": "https://localhost:8080/"
        },
        "id": "I3H05AUPccB_",
        "outputId": "d5f520db-f78b-4acc-9814-557182936220"
      },
      "source": [
        "for param in vgg.parameters():\r\n",
        "  if param.requires_grad : \r\n",
        "    print(param.shape)"
      ],
      "execution_count": 78,
      "outputs": [
        {
          "output_type": "stream",
          "text": [
            "torch.Size([10, 4096])\n",
            "torch.Size([10])\n"
          ],
          "name": "stdout"
        }
      ]
    },
    {
      "cell_type": "code",
      "metadata": {
        "id": "Ongfy3Swc3aU"
      },
      "source": [
        "vgg = vgg.to(device)\r\n",
        "loss_fn = nn.CrossEntropyLoss()\r\n",
        "opt = optim.SGD(vgg.parameters(), lr = 0.05)"
      ],
      "execution_count": 79,
      "outputs": []
    },
    {
      "cell_type": "code",
      "metadata": {
        "id": "uzgyLPp-dX6P"
      },
      "source": [
        "# import time \r\n",
        "\r\n",
        "# %time \r\n",
        "\r\n",
        "# loss_epoch_arr = []\r\n",
        "# max_epochs = 1\r\n",
        "\r\n",
        "# n_iters = np.ceil(50000/batch_size)\r\n",
        "\r\n",
        "# for epoch in range(max_epochs):\r\n",
        "#   for i, data in enumerate(trainloader, 0):\r\n",
        "#     inputs, labels = data \r\n",
        "#     inputs, labels = inputs.to(device), labels.to(device)\r\n",
        "\r\n",
        "#     opt.zero_grad()\r\n",
        "\r\n",
        "#     outputs = vgg(inputs)\r\n",
        "#     loss = loss_fn(outputs, labels)\r\n",
        "#     loss.backward()\r\n",
        "#     opt.step()\r\n",
        "\r\n",
        "#     del inputs, labels, outputs\r\n",
        "#     torch.cuda.empty_cache() # to ensure memory usage in the GPU is small \r\n",
        "\r\n",
        "#     if (i % 100) == 0:\r\n",
        "#       print(\"Iteration : %d/%d, Loss : %0.2f\" %(i,n_iters,loss.item()))\r\n",
        "\r\n",
        "#   loss_epoch_arr.append(loss.item())\r\n",
        "#   print(\"Epoch : %d/%d, Test acc : %0.2f, Train acc : %0.2f\" %(epoch,max_epochs,evaluation(testloader, vgg),evaluation(trainloader, vgg)))\r\n",
        "\r\n",
        "# plt.plot(loss_epoch_arr)\r\n",
        "# plt.show() # we are initially reducing the loss, but then it starts increasing again. So we need some kind of checkpointing"
      ],
      "execution_count": 84,
      "outputs": []
    },
    {
      "cell_type": "markdown",
      "metadata": {
        "id": "8Ag9gvbgebQn"
      },
      "source": [
        "## With model Copies"
      ]
    },
    {
      "cell_type": "code",
      "metadata": {
        "id": "fviCBVnCeDpz"
      },
      "source": [
        "import copy "
      ],
      "execution_count": 80,
      "outputs": []
    },
    {
      "cell_type": "code",
      "metadata": {
        "id": "XqdJ8YrQfTiv"
      },
      "source": [
        "# import time \r\n",
        "\r\n",
        "# %time \r\n",
        "\r\n",
        "# loss_epoch_arr = []\r\n",
        "# max_epochs = 1\r\n",
        "\r\n",
        "# min_loss = 1000\r\n",
        "\r\n",
        "# n_iters = np.ceil(50000/batch_size)\r\n",
        "\r\n",
        "# for epoch in range(max_epochs):\r\n",
        "#   for i, data in enumerate(trainloader, 0):\r\n",
        "#     inputs, labels = data \r\n",
        "#     inputs, labels = inputs.to(device), labels.to(device)\r\n",
        "\r\n",
        "#     opt.zero_grad()\r\n",
        "\r\n",
        "#     outputs = vgg(inputs)\r\n",
        "#     loss = loss_fn(outputs, labels)\r\n",
        "#     loss.backward()\r\n",
        "#     opt.step()\r\n",
        "\r\n",
        "#     del inputs, labels, outputs\r\n",
        "#     torch.cuda.empty_cache() # to ensure memory usage in the GPU is small \r\n",
        "\r\n",
        "#     # checkpointing \r\n",
        "#     if min_loss > loss.item():\r\n",
        "#       min_loss = loss.item()\r\n",
        "#       best_model = copy.deepcopy(vgg.state_dict()) # deep copying the vgg state right now \r\n",
        "#       print(\"Min loss %0.2f\" % min_loss)\r\n",
        "\r\n",
        "#     if (i % 100) == 0:\r\n",
        "#       print(\"Iteration : %d/%d, Loss : %0.2f\" %(i,n_iters,loss.item()))\r\n",
        "\r\n",
        "#   loss_epoch_arr.append(loss.item())\r\n",
        "#   print(\"Epoch : %d/%d, Test acc : %0.2f, Train acc : %0.2f\" %(epoch,max_epochs,evaluation(testloader, vgg),evaluation(trainloader, vgg)))\r\n",
        "\r\n",
        "# plt.plot(loss_epoch_arr)\r\n",
        "# plt.show() # we are initially reducing the loss, but then it starts increasing again. So we need some kind of checkpointing"
      ],
      "execution_count": 83,
      "outputs": []
    },
    {
      "cell_type": "code",
      "metadata": {
        "colab": {
          "base_uri": "https://localhost:8080/"
        },
        "id": "AVMoL9GUgRUA",
        "outputId": "35e9963d-e040-4ba5-9fae-9d2259c6293a"
      },
      "source": [
        "vgg.load_state_dict(best_model) # loading the vgg by the best_model , we might want to do it for more epochs but this time starting from the best_model we got from this epoch\r\n",
        "print(evaluation(trainloader,vgg), evaluation(testloader,vgg))"
      ],
      "execution_count": 42,
      "outputs": [
        {
          "output_type": "stream",
          "text": [
            "46.462 46.17\n"
          ],
          "name": "stdout"
        }
      ]
    },
    {
      "cell_type": "markdown",
      "metadata": {
        "id": "-VQV27CbpCr0"
      },
      "source": [
        "Our idea should be to use the best model and retrain , because we are here only looking at 16 images and so on. It might not give the best accuracy at the whole dataset. \r\n"
      ]
    },
    {
      "cell_type": "markdown",
      "metadata": {
        "id": "MfzOAqhklj2u"
      },
      "source": [
        "## ResNet Model"
      ]
    },
    {
      "cell_type": "code",
      "metadata": {
        "colab": {
          "base_uri": "https://localhost:8080/",
          "height": 82,
          "referenced_widgets": [
            "2e68f58e93fa48aea92f26071d0952e0",
            "5944ab00117047e99abecd14920990c2",
            "6d8711ea1e3643b0a4547ec5c11bf5d2",
            "ce9e6e6bdff74752947bb4b1f8618daa",
            "c34fa37958b041cebcf6ae87a513f6fa",
            "d3c81c178b0e4cd9a4b7454b96ba51bf",
            "06f97ae3c0ba4b199e0ee23c7429341e",
            "dad2ccf1ad6148009bc735459fbadfb1"
          ]
        },
        "id": "sVzxiFujgqbI",
        "outputId": "830b29c3-6d3a-40fb-8edc-401e52a17575"
      },
      "source": [
        "resnet = models.resnet18(pretrained = True)"
      ],
      "execution_count": 44,
      "outputs": [
        {
          "output_type": "stream",
          "text": [
            "Downloading: \"https://download.pytorch.org/models/resnet18-5c106cde.pth\" to /root/.cache/torch/hub/checkpoints/resnet18-5c106cde.pth\n"
          ],
          "name": "stderr"
        },
        {
          "output_type": "display_data",
          "data": {
            "application/vnd.jupyter.widget-view+json": {
              "model_id": "2e68f58e93fa48aea92f26071d0952e0",
              "version_minor": 0,
              "version_major": 2
            },
            "text/plain": [
              "HBox(children=(FloatProgress(value=0.0, max=46827520.0), HTML(value='')))"
            ]
          },
          "metadata": {
            "tags": []
          }
        },
        {
          "output_type": "stream",
          "text": [
            "\n"
          ],
          "name": "stdout"
        }
      ]
    },
    {
      "cell_type": "code",
      "metadata": {
        "id": "CFHnXzb_lrqf"
      },
      "source": [
        "print(resnet)"
      ],
      "execution_count": null,
      "outputs": []
    },
    {
      "cell_type": "code",
      "metadata": {
        "id": "Vn77n3W_ltob"
      },
      "source": [
        "for param in resnet.parameters():\r\n",
        "  param.requires_grad =  False"
      ],
      "execution_count": 46,
      "outputs": []
    },
    {
      "cell_type": "code",
      "metadata": {
        "id": "3kAnRvHOl8Wz"
      },
      "source": [
        "in_features = resnet.fc.in_features\r\n",
        "resnet.fc = nn.Linear(in_features, num_classes)"
      ],
      "execution_count": 47,
      "outputs": []
    },
    {
      "cell_type": "code",
      "metadata": {
        "id": "HwDijGpTma0a"
      },
      "source": [
        "resnet = resnet.to(device)\r\n",
        "loss_fn = nn.CrossEntropyLoss()\r\n",
        "opt = optim.SGD(resnet.parameters(), lr = 0.01) "
      ],
      "execution_count": 49,
      "outputs": []
    },
    {
      "cell_type": "code",
      "metadata": {
        "id": "Vot5IO8TnOo3"
      },
      "source": [
        "import time \r\n",
        "\r\n",
        "%time \r\n",
        "\r\n",
        "loss_epoch_arr = []\r\n",
        "max_epochs = 4\r\n",
        "\r\n",
        "min_loss = 1000\r\n",
        "\r\n",
        "n_iters = np.ceil(50000/batch_size)\r\n",
        "\r\n",
        "for epoch in range(max_epochs):\r\n",
        "  for i, data in enumerate(trainloader, 0):\r\n",
        "    inputs, labels = data \r\n",
        "    inputs, labels = inputs.to(device), labels.to(device)\r\n",
        "\r\n",
        "    opt.zero_grad()\r\n",
        "\r\n",
        "    outputs = resnet(inputs)\r\n",
        "    loss = loss_fn(outputs, labels)\r\n",
        "    loss.backward()\r\n",
        "    opt.step()\r\n",
        "\r\n",
        "    del inputs, labels, outputs\r\n",
        "    torch.cuda.empty_cache() # to ensure memory usage in the GPU is small \r\n",
        "\r\n",
        "    # checkpointing \r\n",
        "    if min_loss > loss.item():\r\n",
        "      min_loss = loss.item()\r\n",
        "      best_model = copy.deepcopy(resnet.state_dict()) # deep copying the vgg state right now \r\n",
        "      print(\"Min loss %0.2f\" % min_loss)\r\n",
        "\r\n",
        "    if (i % 100) == 0:\r\n",
        "      print(\"Iteration : %d/%d, Loss : %0.2f\" %(i,n_iters,loss.item()))\r\n",
        "\r\n",
        "  loss_epoch_arr.append(loss.item())\r\n",
        "  print(\"Epoch : %d/%d, Test acc : %0.2f, Train acc : %0.2f\" %(epoch,max_epochs,evaluation(testloader, resnet),evaluation(trainloader, resnet)))\r\n",
        "\r\n",
        "plt.plot(loss_epoch_arr)\r\n",
        "plt.show() "
      ],
      "execution_count": null,
      "outputs": []
    },
    {
      "cell_type": "code",
      "metadata": {
        "colab": {
          "base_uri": "https://localhost:8080/"
        },
        "id": "RWCT71thwrIk",
        "outputId": "0da34812-c355-44b3-ad17-6a9da6ef471b"
      },
      "source": [
        "resnet.load_state_dict(best_model)\r\n",
        "print(evaluation(trainloader,resnet), evaluation(testloader,resnet))"
      ],
      "execution_count": 51,
      "outputs": [
        {
          "output_type": "stream",
          "text": [
            "56.146 55.73\n"
          ],
          "name": "stdout"
        }
      ]
    },
    {
      "cell_type": "markdown",
      "metadata": {
        "id": "o0T1j5o5xeSd"
      },
      "source": [
        "## Inception Model"
      ]
    },
    {
      "cell_type": "code",
      "metadata": {
        "colab": {
          "base_uri": "https://localhost:8080/",
          "height": 82,
          "referenced_widgets": [
            "1d5acb79f85a4362a9df0f18c9a082b3",
            "79b75fcb4c6843e0885b451603b1ff2a",
            "6eb5f5f5e4424d28864c9f5e0ad1a699",
            "3729cd96a9cf416fb03f91b37b83f70a",
            "200d562c288549fb92e508d8dd33df49",
            "9d68c15ffdad44c58507048d8aa0047f",
            "89780169f1044506abcb0d6a94b99599",
            "0196b52f00644b6d8ebb8eef82ebe06f"
          ]
        },
        "id": "GZcmuFTHw0ct",
        "outputId": "38f4498c-5e47-4dcf-cc29-7bb3b9cd99ef"
      },
      "source": [
        "inception = models.inception_v3(pretrained = True)"
      ],
      "execution_count": 81,
      "outputs": [
        {
          "output_type": "stream",
          "text": [
            "Downloading: \"https://download.pytorch.org/models/inception_v3_google-1a9a5a14.pth\" to /root/.cache/torch/hub/checkpoints/inception_v3_google-1a9a5a14.pth\n"
          ],
          "name": "stderr"
        },
        {
          "output_type": "display_data",
          "data": {
            "application/vnd.jupyter.widget-view+json": {
              "model_id": "1d5acb79f85a4362a9df0f18c9a082b3",
              "version_minor": 0,
              "version_major": 2
            },
            "text/plain": [
              "HBox(children=(FloatProgress(value=0.0, max=108857766.0), HTML(value='')))"
            ]
          },
          "metadata": {
            "tags": []
          }
        },
        {
          "output_type": "stream",
          "text": [
            "\n"
          ],
          "name": "stdout"
        }
      ]
    },
    {
      "cell_type": "code",
      "metadata": {
        "id": "w4_nZtztxol6"
      },
      "source": [
        "print(inception)"
      ],
      "execution_count": null,
      "outputs": []
    },
    {
      "cell_type": "code",
      "metadata": {
        "id": "NcUx6qx-0En0"
      },
      "source": [
        "for param in inception.parameters():\r\n",
        "  param.requires_grad = False"
      ],
      "execution_count": 86,
      "outputs": []
    },
    {
      "cell_type": "code",
      "metadata": {
        "id": "7wx_eZEPyjq0"
      },
      "source": [
        "aux_in_features = inception.AuxLogits.fc.in_features\r\n",
        "inception.AuxLogits.fc = nn.Linear(aux_in_features, num_classes)"
      ],
      "execution_count": 87,
      "outputs": []
    },
    {
      "cell_type": "code",
      "metadata": {
        "id": "rEurrtOZz-ls"
      },
      "source": [
        "in_features = inception.fc.in_features\r\n",
        "inception.fc = nn.Linear(in_features, num_classes)"
      ],
      "execution_count": 88,
      "outputs": []
    },
    {
      "cell_type": "code",
      "metadata": {
        "colab": {
          "base_uri": "https://localhost:8080/"
        },
        "id": "RHQf_abl0ehm",
        "outputId": "2f4d6b4b-ec0f-433e-e6a5-c84eec53e241"
      },
      "source": [
        "for param in inception.parameters():\r\n",
        "  if param.requires_grad == True :\r\n",
        "    print(param.shape)"
      ],
      "execution_count": 90,
      "outputs": [
        {
          "output_type": "stream",
          "text": [
            "torch.Size([10, 768])\n",
            "torch.Size([10])\n",
            "torch.Size([10, 2048])\n",
            "torch.Size([10])\n"
          ],
          "name": "stdout"
        }
      ]
    },
    {
      "cell_type": "code",
      "metadata": {
        "id": "KrUXTomB0v1f"
      },
      "source": [
        "transform_train = transforms.Compose([\r\n",
        "  transforms.RandomResizedCrop(299), # inception models requires 29x299x3 shaped images \r\n",
        "  transforms.ToTensor(),\r\n",
        "  transforms.Normalize((0.5,0.5,0.5), (0.5,0.5,0.5)) \r\n",
        "])\r\n",
        "\r\n",
        "transform_test = transforms.Compose([\r\n",
        "  transforms.RandomResizedCrop(299),\r\n",
        "  transforms.ToTensor(),\r\n",
        "  transforms.Normalize((0.5,0.5,0.5), (0.5,0.5,0.5))                                     \r\n",
        "])"
      ],
      "execution_count": 100,
      "outputs": []
    },
    {
      "cell_type": "code",
      "metadata": {
        "colab": {
          "base_uri": "https://localhost:8080/"
        },
        "id": "NKpfRobw1XHK",
        "outputId": "4e83e0f7-2989-4277-c6e3-d7569225fa13"
      },
      "source": [
        "trainset = torchvision.datasets.CIFAR10(root = \"./data\", train = True, download = True,transform= transform_train) # the datasets will not be downloaded again , only transformations will be done to those\r\n",
        "testset = torchvision.datasets.CIFAR10(root = \"./data\", train = False, download = True,transform= transform_test)"
      ],
      "execution_count": 101,
      "outputs": [
        {
          "output_type": "stream",
          "text": [
            "Files already downloaded and verified\n",
            "Files already downloaded and verified\n"
          ],
          "name": "stdout"
        }
      ]
    },
    {
      "cell_type": "code",
      "metadata": {
        "id": "bXwnqOLe1aCw"
      },
      "source": [
        "batch_size = 16 # should not use small batch sizes for training as the gradients may then be biased towards a stray data point \r\n",
        "# cannot also use a very large batch size for training as the GPU is not big enough to store a lot of data\r\n",
        "# so we make them as large as it is allowed in my GPU memory \r\n",
        "\r\n",
        "trainloader = torch.utils.data.DataLoader(trainset, batch_size=batch_size, shuffle=True)\r\n",
        "testloader = torch.utils.data.DataLoader(testset, batch_size=batch_size, shuffle=False) # no need for shuffling  "
      ],
      "execution_count": 102,
      "outputs": []
    },
    {
      "cell_type": "code",
      "metadata": {
        "id": "-O_pb7JM2BfS"
      },
      "source": [
        "inception = inception.to(device)\r\n",
        "loss_fn = nn.CrossEntropyLoss()\r\n",
        "opt = optim.SGD(inception.parameters(), lr = 0.01) "
      ],
      "execution_count": 103,
      "outputs": []
    },
    {
      "cell_type": "code",
      "metadata": {
        "id": "8KYxx4gQ2Gs5"
      },
      "source": [
        "def evaluation_inception(dataloader, model):\r\n",
        "  total , correct = 0 , 0 \r\n",
        "  for data in dataloader:\r\n",
        "    inputs, labels = data \r\n",
        "    inputs, labels = inputs.to(device), labels.to(device) \r\n",
        "    outputs,aux_outputs = model(inputs) # onl; difference is here \r\n",
        "    _, pred = torch.max(outputs.data, 1) \r\n",
        "    total += labels.size(0) \r\n",
        "    correct += (pred == labels).sum().item()\r\n",
        "  return 100 * correct / total "
      ],
      "execution_count": 104,
      "outputs": []
    },
    {
      "cell_type": "code",
      "metadata": {
        "colab": {
          "base_uri": "https://localhost:8080/",
          "height": 1000
        },
        "id": "BztIAsVh2wjA",
        "outputId": "99719bbf-8c3f-4131-f867-aab8a09c2e48"
      },
      "source": [
        "import time \r\n",
        "\r\n",
        "%time \r\n",
        "\r\n",
        "loss_epoch_arr = []\r\n",
        "max_epochs = 4\r\n",
        "\r\n",
        "min_loss = 1000\r\n",
        "\r\n",
        "n_iters = np.ceil(50000/batch_size)\r\n",
        "\r\n",
        "for epoch in range(max_epochs):\r\n",
        "  for i, data in enumerate(trainloader, 0):\r\n",
        "    inputs, labels = data \r\n",
        "    inputs, labels = inputs.to(device), labels.to(device)\r\n",
        "\r\n",
        "    opt.zero_grad()\r\n",
        "\r\n",
        "    outputs, aux_outputs = inception(inputs)\r\n",
        "    loss = loss_fn(outputs, labels) + 0.3* loss_fn(aux_outputs, labels) # modifying our loss function \r\n",
        "    loss.backward()\r\n",
        "    opt.step()\r\n",
        "\r\n",
        "    del inputs, labels, outputs\r\n",
        "    torch.cuda.empty_cache() # to ensure memory usage in the GPU is small \r\n",
        "\r\n",
        "    # checkpointing \r\n",
        "    if min_loss > loss.item():\r\n",
        "      min_loss = loss.item()\r\n",
        "      best_model = copy.deepcopy(resnet.state_dict()) # deep copying the vgg state right now \r\n",
        "      print(\"Min loss %0.2f\" % min_loss)\r\n",
        "\r\n",
        "    if (i % 100) == 0:\r\n",
        "      print(\"Iteration : %d/%d, Loss : %0.2f\" %(i,n_iters,loss.item()))\r\n",
        "\r\n",
        "  loss_epoch_arr.append(loss.item())\r\n",
        "  print(\"Epoch : %d/%d, Test acc : %0.2f, Train acc : %0.2f\" %(epoch,max_epochs,evaluation(testloader, resnet),evaluation(trainloader, resnet)))\r\n",
        "\r\n",
        "plt.plot(loss_epoch_arr)\r\n",
        "plt.show() "
      ],
      "execution_count": 105,
      "outputs": [
        {
          "output_type": "stream",
          "text": [
            "CPU times: user 2 µs, sys: 1e+03 ns, total: 3 µs\n",
            "Wall time: 7.63 µs\n",
            "Min loss 2.86\n",
            "Iteration : 0/3125, Loss : 2.86\n",
            "Min loss 2.85\n",
            "Min loss 2.82\n",
            "Min loss 2.77\n",
            "Min loss 2.68\n",
            "Min loss 2.68\n",
            "Min loss 2.65\n",
            "Min loss 2.55\n",
            "Iteration : 100/3125, Loss : 2.98\n",
            "Min loss 2.50\n",
            "Min loss 2.36\n",
            "Min loss 2.36\n",
            "Min loss 2.24\n",
            "Iteration : 200/3125, Loss : 2.54\n",
            "Min loss 2.18\n",
            "Min loss 1.81\n",
            "Iteration : 300/3125, Loss : 2.31\n",
            "Iteration : 400/3125, Loss : 2.14\n",
            "Min loss 1.71\n",
            "Min loss 1.60\n",
            "Iteration : 500/3125, Loss : 1.98\n",
            "Iteration : 600/3125, Loss : 2.38\n",
            "Min loss 1.55\n",
            "Iteration : 700/3125, Loss : 2.15\n",
            "Iteration : 800/3125, Loss : 2.39\n",
            "Iteration : 900/3125, Loss : 1.57\n",
            "Min loss 1.53\n",
            "Min loss 1.52\n",
            "Iteration : 1000/3125, Loss : 1.84\n",
            "Min loss 1.45\n",
            "Iteration : 1100/3125, Loss : 1.65\n",
            "Min loss 1.42\n",
            "Iteration : 1200/3125, Loss : 1.98\n",
            "Iteration : 1300/3125, Loss : 2.31\n",
            "Iteration : 1400/3125, Loss : 2.12\n",
            "Iteration : 1500/3125, Loss : 2.22\n",
            "Min loss 1.41\n",
            "Min loss 1.40\n",
            "Iteration : 1600/3125, Loss : 2.13\n",
            "Iteration : 1700/3125, Loss : 1.85\n",
            "Min loss 1.24\n",
            "Min loss 1.22\n",
            "Iteration : 1800/3125, Loss : 1.92\n",
            "Iteration : 1900/3125, Loss : 2.18\n",
            "Min loss 1.15\n",
            "Iteration : 2000/3125, Loss : 2.19\n",
            "Iteration : 2100/3125, Loss : 1.97\n",
            "Iteration : 2200/3125, Loss : 2.05\n",
            "Iteration : 2300/3125, Loss : 2.06\n",
            "Iteration : 2400/3125, Loss : 2.49\n",
            "Iteration : 2500/3125, Loss : 1.57\n",
            "Iteration : 2600/3125, Loss : 2.08\n",
            "Iteration : 2700/3125, Loss : 2.01\n",
            "Iteration : 2800/3125, Loss : 1.74\n",
            "Iteration : 2900/3125, Loss : 1.72\n",
            "Min loss 1.08\n",
            "Iteration : 3000/3125, Loss : 2.28\n",
            "Iteration : 3100/3125, Loss : 1.96\n",
            "Epoch : 0/4, Test acc : 49.23, Train acc : 49.23\n",
            "Iteration : 0/3125, Loss : 2.01\n",
            "Iteration : 100/3125, Loss : 2.63\n",
            "Iteration : 200/3125, Loss : 1.67\n",
            "Min loss 1.05\n",
            "Iteration : 300/3125, Loss : 1.97\n",
            "Iteration : 400/3125, Loss : 1.89\n",
            "Min loss 0.97\n",
            "Iteration : 500/3125, Loss : 2.21\n",
            "Iteration : 600/3125, Loss : 1.90\n",
            "Iteration : 700/3125, Loss : 2.09\n",
            "Iteration : 800/3125, Loss : 1.69\n",
            "Iteration : 900/3125, Loss : 1.71\n",
            "Iteration : 1000/3125, Loss : 1.84\n",
            "Iteration : 1100/3125, Loss : 1.88\n",
            "Iteration : 1200/3125, Loss : 2.08\n",
            "Iteration : 1300/3125, Loss : 1.32\n",
            "Iteration : 1400/3125, Loss : 2.15\n",
            "Iteration : 1500/3125, Loss : 1.56\n",
            "Iteration : 1600/3125, Loss : 1.85\n",
            "Iteration : 1700/3125, Loss : 1.85\n",
            "Iteration : 1800/3125, Loss : 1.57\n",
            "Iteration : 1900/3125, Loss : 1.95\n",
            "Iteration : 2000/3125, Loss : 1.56\n",
            "Iteration : 2100/3125, Loss : 1.67\n",
            "Min loss 0.93\n",
            "Iteration : 2200/3125, Loss : 2.19\n",
            "Iteration : 2300/3125, Loss : 1.83\n",
            "Iteration : 2400/3125, Loss : 2.28\n",
            "Iteration : 2500/3125, Loss : 1.76\n",
            "Iteration : 2600/3125, Loss : 1.99\n",
            "Iteration : 2700/3125, Loss : 1.29\n",
            "Iteration : 2800/3125, Loss : 1.15\n",
            "Iteration : 2900/3125, Loss : 1.82\n",
            "Iteration : 3000/3125, Loss : 1.58\n",
            "Iteration : 3100/3125, Loss : 1.50\n",
            "Epoch : 1/4, Test acc : 49.20, Train acc : 49.56\n",
            "Iteration : 0/3125, Loss : 2.41\n",
            "Iteration : 100/3125, Loss : 1.60\n",
            "Iteration : 200/3125, Loss : 2.77\n",
            "Iteration : 300/3125, Loss : 1.46\n",
            "Iteration : 400/3125, Loss : 1.65\n",
            "Iteration : 500/3125, Loss : 1.92\n",
            "Iteration : 600/3125, Loss : 2.36\n",
            "Iteration : 700/3125, Loss : 1.91\n",
            "Iteration : 800/3125, Loss : 1.88\n",
            "Iteration : 900/3125, Loss : 2.17\n",
            "Min loss 0.74\n",
            "Iteration : 1000/3125, Loss : 1.91\n",
            "Iteration : 1100/3125, Loss : 1.66\n",
            "Iteration : 1200/3125, Loss : 1.44\n",
            "Iteration : 1300/3125, Loss : 1.60\n",
            "Iteration : 1400/3125, Loss : 2.35\n",
            "Iteration : 1500/3125, Loss : 3.12\n",
            "Iteration : 1600/3125, Loss : 2.20\n",
            "Iteration : 1700/3125, Loss : 2.02\n",
            "Iteration : 1800/3125, Loss : 2.15\n",
            "Iteration : 1900/3125, Loss : 2.20\n",
            "Iteration : 2000/3125, Loss : 1.61\n",
            "Iteration : 2100/3125, Loss : 1.61\n",
            "Iteration : 2200/3125, Loss : 1.96\n",
            "Iteration : 2300/3125, Loss : 2.19\n",
            "Iteration : 2400/3125, Loss : 1.91\n",
            "Iteration : 2500/3125, Loss : 1.91\n",
            "Iteration : 2600/3125, Loss : 2.05\n",
            "Iteration : 2700/3125, Loss : 1.62\n",
            "Iteration : 2800/3125, Loss : 1.82\n",
            "Iteration : 2900/3125, Loss : 2.10\n",
            "Iteration : 3000/3125, Loss : 2.48\n",
            "Iteration : 3100/3125, Loss : 2.21\n",
            "Epoch : 2/4, Test acc : 49.08, Train acc : 49.44\n",
            "Iteration : 0/3125, Loss : 1.54\n",
            "Iteration : 100/3125, Loss : 1.46\n",
            "Iteration : 200/3125, Loss : 1.30\n",
            "Iteration : 300/3125, Loss : 2.26\n",
            "Iteration : 400/3125, Loss : 1.77\n",
            "Iteration : 500/3125, Loss : 2.45\n",
            "Iteration : 600/3125, Loss : 1.56\n",
            "Iteration : 700/3125, Loss : 1.63\n",
            "Iteration : 800/3125, Loss : 2.44\n",
            "Iteration : 900/3125, Loss : 0.94\n",
            "Iteration : 1000/3125, Loss : 1.65\n",
            "Iteration : 1100/3125, Loss : 1.23\n",
            "Iteration : 1200/3125, Loss : 1.95\n",
            "Iteration : 1300/3125, Loss : 1.49\n",
            "Iteration : 1400/3125, Loss : 2.21\n",
            "Iteration : 1500/3125, Loss : 1.60\n",
            "Iteration : 1600/3125, Loss : 2.02\n",
            "Iteration : 1700/3125, Loss : 2.09\n",
            "Iteration : 1800/3125, Loss : 1.34\n",
            "Iteration : 1900/3125, Loss : 1.38\n",
            "Iteration : 2000/3125, Loss : 2.05\n",
            "Iteration : 2100/3125, Loss : 2.19\n",
            "Iteration : 2200/3125, Loss : 2.32\n",
            "Iteration : 2300/3125, Loss : 1.97\n",
            "Iteration : 2400/3125, Loss : 2.07\n",
            "Iteration : 2500/3125, Loss : 2.54\n",
            "Iteration : 2600/3125, Loss : 1.96\n",
            "Iteration : 2700/3125, Loss : 2.00\n",
            "Iteration : 2800/3125, Loss : 2.04\n",
            "Iteration : 2900/3125, Loss : 1.12\n",
            "Iteration : 3000/3125, Loss : 2.11\n",
            "Iteration : 3100/3125, Loss : 1.96\n",
            "Epoch : 3/4, Test acc : 49.30, Train acc : 49.45\n"
          ],
          "name": "stdout"
        },
        {
          "output_type": "display_data",
          "data": {
            "image/png": "[encoded data removed]",
            "text/plain": [
              "<Figure size 432x288 with 1 Axes>"
            ]
          },
          "metadata": {
            "tags": [],
            "needs_background": "light"
          }
        }
      ]
    },
    {
      "cell_type": "code",
      "metadata": {
        "id": "qK44qs1A4FW7"
      },
      "source": [
        ""
      ],
      "execution_count": null,
      "outputs": []
    }
  ]
}