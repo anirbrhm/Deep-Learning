{
  "nbformat": 4,
  "nbformat_minor": 0,
  "metadata": {
    "colab": {
      "name": "Data Preprocessing.ipynb",
      "provenance": [],
      "collapsed_sections": [],
      "authorship_tag": "ABX9TyMRBuIvrqWnbA8ZlzOE1ggt",
      "include_colab_link": true
    },
    "kernelspec": {
      "name": "python3",
      "display_name": "Python 3"
    }
  },
  "cells": [
    {
      "cell_type": "markdown",
      "metadata": {
        "id": "view-in-github",
        "colab_type": "text"
      },
      "source": [
        "<a href=\"https://colab.research.google.com/github/anirbrhm/Deep-Learning/blob/main/Data_Preprocessing.ipynb\" target=\"_parent\"><img src=\"https://colab.research.google.com/assets/colab-badge.svg\" alt=\"Open In Colab\"/></a>"
      ]
    },
    {
      "cell_type": "markdown",
      "metadata": {
        "id": "k1foIw_H99PR"
      },
      "source": [
        "# Loading the Data "
      ]
    },
    {
      "cell_type": "code",
      "metadata": {
        "id": "9Ux4z5gg9-_V"
      },
      "source": [
        "import sklearn.datasets \r\n",
        "import numpy as np \r\n",
        "import pandas as pd "
      ],
      "execution_count": 2,
      "outputs": []
    },
    {
      "cell_type": "markdown",
      "metadata": {
        "id": "v6M-dv5SEcr_"
      },
      "source": [
        "Breast Cancer Data Set :\r\n",
        "\r\n",
        "Documentation - https://scikit-learn.org/stable/modules/generated/sklearn.datasets.load_breast_cancer.html"
      ]
    },
    {
      "cell_type": "code",
      "metadata": {
        "id": "0D7s-mnc-DPJ"
      },
      "source": [
        "data, target = sklearn.datasets.load_breast_cancer(return_X_y = True) "
      ],
      "execution_count": 3,
      "outputs": []
    },
    {
      "cell_type": "code",
      "metadata": {
        "id": "19AAau3UESng"
      },
      "source": [
        "print(data)\r\n",
        "print(target)"
      ],
      "execution_count": null,
      "outputs": []
    },
    {
      "cell_type": "code",
      "metadata": {
        "colab": {
          "base_uri": "https://localhost:8080/"
        },
        "id": "JS8HnYpTEYxi",
        "outputId": "9a01074a-bce3-4cba-dab2-fb380fce0457"
      },
      "source": [
        "print(data.shape[0], data.shape[1])"
      ],
      "execution_count": 6,
      "outputs": [
        {
          "output_type": "stream",
          "text": [
            "569 30\n"
          ],
          "name": "stdout"
        }
      ]
    },
    {
      "cell_type": "code",
      "metadata": {
        "colab": {
          "base_uri": "https://localhost:8080/"
        },
        "id": "BYSZJd8xE7tM",
        "outputId": "7d353927-ce3d-48db-97eb-db7d7e6bc7db"
      },
      "source": [
        "print(target.shape)"
      ],
      "execution_count": 7,
      "outputs": [
        {
          "output_type": "stream",
          "text": [
            "(569,)\n"
          ],
          "name": "stdout"
        }
      ]
    }
  ]
}